{
 "cells": [
  {
   "cell_type": "code",
   "execution_count": null,
   "metadata": {},
   "outputs": [],
   "source": [
    "#Question 1 \n",
    "arr = [\"zero\",\"one\",\"two\",\"three\",\"four\",\"five\",\"six\",\"seven\",\"eight\",\"nine\"]\n",
    "num = int(input(\"Enter a number in the range\"))\n",
    "if(num in range(0,10)):\n",
    "    word = arr[num]\n",
    "    print(word)\n",
    "else:\n",
    "    print(\"number is outside of the range\")"
   ]
  },
  {
   "cell_type": "code",
   "execution_count": null,
   "metadata": {},
   "outputs": [],
   "source": [
    "#Question 2\n",
    "num1 = int(input(\"Enter the first number: \"))\n",
    "num2 = int(input(\"Enter the second number: \"))\n",
    "print(\" *To add enter 1\\n\",\n",
    "      \"*To subtract enter 2\\n\",\n",
    "      \"*To multiply enter 3\\n\",\n",
    "      \"*To divide enter 4\\n\",\n",
    "      \"*To divide and find quotient enter 5\\n\",\n",
    "      \"*To divide and find remainder enter 6\\n\",\n",
    "      \"*To divide and find num1 to the power of num2 enter 7\\n\",\n",
    "      \"*To Come out of the program enter 8\")\n",
    "choice = int(input(\"Enter a choice: \"))\n",
    "if(choice==1):\n",
    "    print(num1+num2)\n",
    "elif(choice==2):\n",
    "    print(num1-num2)\n",
    "elif(choice==3):\n",
    "    print(num1*num2)\n",
    "elif(choice==4):\n",
    "    print(num1/num2)\n",
    "elif(choice==5):\n",
    "    print(num1//num2)\n",
    "elif(choice==6):\n",
    "    print(num1%num2)\n",
    "elif(choice==7):\n",
    "    print(num1**num2)\n",
    "elif(choice==8):\n",
    "    exit()\n"
   ]
  },
  {
   "cell_type": "code",
   "execution_count": null,
   "metadata": {},
   "outputs": [],
   "source": [
    "#Question 3\n",
    "year = int(input(\"Enter a year to check whether a year is leap year or not\"))\n",
    "if(year%400 == 0 or (year%4==0 and year%100!=0)):\n",
    "    print(year,\" is a leap year.\")\n",
    "else:\n",
    "    print(year,\" is not a leap year.\")"
   ]
  },
  {
   "cell_type": "code",
   "execution_count": null,
   "metadata": {},
   "outputs": [],
   "source": [
    "#Question 4\n",
    "num = int(input(\"Enter a number.\"))\n",
    "if(num%2 == 0):\n",
    "    print(num,\" is a even number\")\n",
    "else:\n",
    "    print(num,\" is a odd number\")"
   ]
  },
  {
   "cell_type": "code",
   "execution_count": null,
   "metadata": {},
   "outputs": [],
   "source": [
    "#Question 5 using if-else\n",
    "num1 = int(input(\"Enter the first number.\"))\n",
    "num2 = int(input(\"Enter the second number.\"))\n",
    "if(num1>num2):\n",
    "    print(\"number1 is greater than number2\")\n",
    "elif(num1<num2):\n",
    "    print(\"number1 is less than number2\")\n",
    "else:\n",
    "    print(\"number1 is equal to number2\")\n",
    "    "
   ]
  },
  {
   "cell_type": "code",
   "execution_count": null,
   "metadata": {},
   "outputs": [],
   "source": [
    "#Question 5 using ternary\n",
    "num1 = int(input(\"Enter the first number.\"))\n",
    "num2 = int(input(\"Enter the second number.\"))\n",
    "res = \"number1 is less than number2\" if num1<num2  else \"number1 is greater than number2\" if num1>num2 else \"number1 is equal to number2\"\n",
    "print(res)"
   ]
  },
  {
   "cell_type": "code",
   "execution_count": null,
   "metadata": {},
   "outputs": [],
   "source": [
    "#Question 6 using if-else\n",
    "num1 = int(input(\"Enter the first number.\"))\n",
    "num2 = int(input(\"Enter the second number.\"))\n",
    "num3 = int(input(\"Enter the third number.\"))\n",
    "if(num1 > num2 and num1>num3 ):\n",
    "    print(\"num1 is greater than num2 and num3\")\n",
    "elif(num2 > num1 and num2 > num3):\n",
    "    print(\"num2 is greater than num1 and num3\")\n",
    "else:\n",
    "    print(\"num3 is greater than  num1 and num2\")\n",
    "    "
   ]
  },
  {
   "cell_type": "code",
   "execution_count": null,
   "metadata": {},
   "outputs": [],
   "source": [
    "#Question 6 using ternary\n",
    "num1 = int(input(\"Enter the first number.\"))\n",
    "num2 = int(input(\"Enter the second number.\"))\n",
    "num3 = int(input(\"Enter the third number.\"))\n",
    "print(\"num2 is greater than num1 and num3\") if(num2 > num1 and num2 > num3) else print(\"num1 is greater than num2 and num3\")  if(num1 > num2 and num1>num3 ) else print(\"num3 is greater than  num1 and num2\") "
   ]
  },
  {
   "cell_type": "code",
   "execution_count": null,
   "metadata": {},
   "outputs": [],
   "source": [
    "#Loops-for,while\n",
    "#Question1\n",
    "my_str = 'Write a Python program to find the length of the my_str'\n",
    "count = 0\n",
    "for i in my_str:\n",
    "    count+=1\n",
    "print(count)"
   ]
  },
  {
   "cell_type": "code",
   "execution_count": null,
   "metadata": {},
   "outputs": [],
   "source": [
    "#Question2\n",
    "my_str = 'peter piper picked a peck of pickled peppers.\\n'\n",
    "count = 0\n",
    "for i in my_str:\n",
    "    if i=='p':\n",
    "        count+=1\n",
    "print(count)"
   ]
  },
  {
   "cell_type": "code",
   "execution_count": null,
   "metadata": {},
   "outputs": [],
   "source": [
    "#Question3\n",
    "my_str = 'peter piper picked a peck of pickled peppers.'\n",
    "for i in range(0,len(my_str)):\n",
    "    if my_str[i] == 'p':\n",
    "        print(i)"
   ]
  },
  {
   "cell_type": "code",
   "execution_count": 13,
   "metadata": {},
   "outputs": [
    {
     "name": "stdout",
     "output_type": "stream",
     "text": [
      "['peter', 'piper', 'picked', 'a', 'peck', 'of', 'pickled', 'peppers']\n"
     ]
    }
   ],
   "source": [
    "#Question4\n",
    "my_str = 'peter piper picked a peck of pickled peppers.'\n",
    "l = []\n",
    "while(my_str.find(' ')!=-1):\n",
    "    space_index =my_str.index(' ')\n",
    "    string = my_str[:space_index]\n",
    "    l.append(string)\n",
    "    my_str = my_str[space_index+1:]\n",
    "l.append(my_str[:-1])    \n",
    "print(l)"
   ]
  },
  {
   "cell_type": "code",
   "execution_count": 11,
   "metadata": {},
   "outputs": [
    {
     "name": "stdout",
     "output_type": "stream",
     "text": [
      ".sreppep delkcip fo kcep a dekcip repip retep\n"
     ]
    }
   ],
   "source": [
    "#Question6\n",
    "my_str = 'peter piper picked a peck of pickled peppers.'\n",
    "new_str=''\n",
    "for i in range(0,len(my_str)):\n",
    "    new_str=my_str[i]+new_str\n",
    "print(new_str)"
   ]
  },
  {
   "cell_type": "code",
   "execution_count": 14,
   "metadata": {},
   "outputs": [
    {
     "name": "stdout",
     "output_type": "stream",
     "text": [
      "['peppers', 'pickled', 'of', 'peck', 'a', 'picked', 'piper', 'peter']\n"
     ]
    }
   ],
   "source": [
    "#Question5\n",
    "my_str = 'peter piper picked a peck of pickled peppers.'\n",
    "l = []\n",
    "while(my_str.find(' ')!=-1):\n",
    "    space_index =my_str.rfind(' ')\n",
    "    string = my_str[space_index+1:]\n",
    "    l.append(string)\n",
    "    my_str = my_str[:space_index]\n",
    "l.append(my_str)\n",
    "l[0]=l[0][:-1]\n",
    "print(l)"
   ]
  },
  {
   "cell_type": "code",
   "execution_count": 37,
   "metadata": {},
   "outputs": [
    {
     "name": "stdout",
     "output_type": "stream",
     "text": [
      "retep repip dekcip a kcep fo delkcip sreppep \n"
     ]
    }
   ],
   "source": [
    "#Question7\n",
    "my_str = 'peter piper picked a peck of pickled peppers.'  #   \n",
    "l = []\n",
    "start_index = 0\n",
    "space_index = 0\n",
    "res_str = ''\n",
    "\n",
    "while(space_index!=-1):\n",
    "    space_index = my_str.find(' ',start_index)\n",
    "    new_str = my_str[start_index:space_index]\n",
    "    for i in range(0,len(new_str)):\n",
    "        if i ==0:\n",
    "            ref_str = new_str[i]+' '\n",
    "        else:\n",
    "            ref_str = new_str[i]+ref_str\n",
    "    res_str = res_str+ref_str\n",
    "    start_index=space_index+1\n",
    "print(res_str)"
   ]
  },
  {
   "cell_type": "code",
   "execution_count": 47,
   "metadata": {},
   "outputs": [
    {
     "name": "stdout",
     "output_type": "stream",
     "text": [
      "Peter Piper Picked A Peck Of Pickled Peppers\n"
     ]
    }
   ],
   "source": [
    "#Question8\n",
    "#'peter piper picked a peck of pickled peppers.'.title()\n",
    "my_str = 'peter piper picked a peck of pickled peppers.'\n",
    "l= my_str.split(' ')\n",
    "for i in l:\n",
    "    index = l.index(i)\n",
    "    l[index] = i[0].upper()+i[1:]\n",
    "l[-1]=l[-1][:-1]\n",
    "res = ' '.join(l)\n",
    "print(res)"
   ]
  },
  {
   "cell_type": "code",
   "execution_count": 48,
   "metadata": {},
   "outputs": [
    {
     "name": "stdout",
     "output_type": "stream",
     "text": [
      "Peter piper picked a peck of pickled peppers\n"
     ]
    }
   ],
   "source": [
    "#Question9\n",
    "my_str = 'Peter Piper Picked A Peck Of Pickled Peppers.'\n",
    "l= my_str.split(' ')\n",
    "for i in l:\n",
    "    index = l.index(i)\n",
    "    if index==0:\n",
    "        pass\n",
    "    else:\n",
    "        l[index] = i[0].lower()+i[1:]\n",
    "l[-1]=l[-1][:-1]\n",
    "res = ' '.join(l)\n",
    "print(res)"
   ]
  },
  {
   "cell_type": "code",
   "execution_count": 2,
   "metadata": {},
   "outputs": [
    {
     "name": "stdout",
     "output_type": "stream",
     "text": [
      "29\n"
     ]
    }
   ],
   "source": [
    "#Question10\n",
    "my_str = 'Peter Piper Picked A Peck Of Pickled Peppers.'\n",
    "sub_str = 'Pickl'\n",
    "j=0\n",
    "start_index=0\n",
    "i=0\n",
    "while(j!=len(sub_str)-1 and i!=len(my_str)-1):\n",
    "    for i in range(0,len(my_str)):\n",
    "        if(sub_str[j]==my_str[i]):\n",
    "            if(j==len(sub_str)-1):\n",
    "                flag=1\n",
    "                break\n",
    "            elif(j==0):\n",
    "                start_index=i\n",
    "                flag=1\n",
    "            j+=1\n",
    "        else:\n",
    "            j=0\n",
    "            flag=0\n",
    "if(flag==1):\n",
    "    print(start_index)\n",
    "else:\n",
    "    print(\"sub_str not found\")\n"
   ]
  },
  {
   "cell_type": "code",
   "execution_count": 8,
   "metadata": {},
   "outputs": [
    {
     "name": "stdout",
     "output_type": "stream",
     "text": [
      "Peter Piper Picked A Pack Of Pickled Peppers.\n"
     ]
    }
   ],
   "source": [
    "#Question11\n",
    "my_str = 'Peter Piper Picked A Peck Of Pickled Peppers.'\n",
    "sub_str = 'Peck'\n",
    "new_str = 'Pack'\n",
    "j=0\n",
    "start_index=0\n",
    "i=0\n",
    "while(j!=len(sub_str)-1 and i!=len(my_str)-1):\n",
    "    for i in range(0,len(my_str)):\n",
    "        if(sub_str[j]==my_str[i]):\n",
    "            if(j==len(sub_str)-1):\n",
    "                end_index=i\n",
    "                flag=1\n",
    "                break\n",
    "            elif(j==0):\n",
    "                start_index=i\n",
    "                flag=1\n",
    "            j+=1\n",
    "        else:\n",
    "            j=0\n",
    "            flag=0\n",
    "if(flag==1):\n",
    "    res_str = my_str[:start_index]+new_str+' '+my_str[end_index+2:]\n",
    "    print(res_str)\n",
    "else:\n",
    "    print(\"sub_str not found\")\n"
   ]
  },
  {
   "cell_type": "code",
   "execution_count": 16,
   "metadata": {},
   "outputs": [
    {
     "name": "stdout",
     "output_type": "stream",
     "text": [
      "['This', 'is', 'Python class']\n"
     ]
    }
   ],
   "source": [
    "#Question13\n",
    "my_str = 'This is Python class'\n",
    "sep = ' is'\n",
    "l=[]\n",
    "j=0\n",
    "start_index=0\n",
    "i=0\n",
    "beginning = 0\n",
    "while(j!=len(sep)-1 and i!=len(my_str)-1):\n",
    "    for i in range(0,len(my_str)):\n",
    "        if(sep[j]==my_str[i]):\n",
    "            if(j==len(sep)-1):\n",
    "                end_index = i\n",
    "                l.append(my_str[beginning:start_index].strip())\n",
    "                l.append(sep.strip())\n",
    "                beginning = end_index+1\n",
    "                j = 0\n",
    "                flag = 1\n",
    "            elif(j==0):\n",
    "                start_index = i\n",
    "                flag = 1\n",
    "                j+=1\n",
    "            else:\n",
    "                j+=1\n",
    "        else:\n",
    "            j=0\n",
    "            flag=0\n",
    "if(flag==1):\n",
    "    pass\n",
    "else:\n",
    "    l.append(my_str[beginning:].strip())\n",
    "print(l)"
   ]
  },
  {
   "cell_type": "code",
   "execution_count": 24,
   "metadata": {},
   "outputs": [
    {
     "name": "stdout",
     "output_type": "stream",
     "text": [
      "*********************Peck********************\n"
     ]
    }
   ],
   "source": [
    "#Question12\n",
    "my_str = 'Peter Piper Picked A Peck Of Pickled Peppers.'\n",
    "sub_str = 'Peck'\n",
    "#print(len(my_str))\n",
    "j=0\n",
    "start_index=0\n",
    "i=0\n",
    "beginning = 0\n",
    "res_str = ''\n",
    "\n",
    "while(j!=len(sub_str)-1 and i!=len(my_str)-1):\n",
    "    for i in range(0,len(my_str)):\n",
    "        if(sub_str[j]==my_str[i]):\n",
    "            if(j==len(sub_str)-1):\n",
    "                end_index=i\n",
    "                flag=1\n",
    "                res_str = res_str+sub_str.rjust(len(my_str[beginning:end_index+1]),'*')\n",
    "                beginning = end_index+1\n",
    "            elif(j==0):\n",
    "                start_index=i\n",
    "                flag=1\n",
    "                j+=1\n",
    "            else:\n",
    "                j+=1\n",
    "        else:\n",
    "            j=0\n",
    "            flag=0\n",
    "if(flag==1):\n",
    "    pass\n",
    "else:\n",
    "    res_str = res_str.ljust(len(res_str)+len(my_str[beginning:]),'*')\n",
    "    print(res_str)\n"
   ]
  },
  {
   "cell_type": "code",
   "execution_count": 5,
   "metadata": {},
   "outputs": [
    {
     "name": "stdout",
     "output_type": "stream",
     "text": [
      "*********************Peck********************\n"
     ]
    }
   ],
   "source": [
    "my_str = 'Peter Piper Picked A Peck Of Pickled Peppers.'\n",
    "sub_str = 'Peck'\n",
    "\n",
    "index=my_str.find('Peck')\n",
    "length1=len(my_str[:index]+my_str[index:index+len(sub_str)])\n",
    "n_str=sub_str.rjust(length1,'*')\n",
    "length2=len(my_str[length1:])\n",
    "res=n_str.ljust(length1+length2,'*')\n",
    "print(res)"
   ]
  },
  {
   "cell_type": "code",
   "execution_count": null,
   "metadata": {},
   "outputs": [],
   "source": []
  }
 ],
 "metadata": {
  "kernelspec": {
   "display_name": "Python 3",
   "language": "python",
   "name": "python3"
  },
  "language_info": {
   "codemirror_mode": {
    "name": "ipython",
    "version": 3
   },
   "file_extension": ".py",
   "mimetype": "text/x-python",
   "name": "python",
   "nbconvert_exporter": "python",
   "pygments_lexer": "ipython3",
   "version": "3.7.6"
  }
 },
 "nbformat": 4,
 "nbformat_minor": 4
}
