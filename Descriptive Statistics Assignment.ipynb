{
 "cells": [
  {
   "cell_type": "code",
   "execution_count": 2,
   "metadata": {},
   "outputs": [],
   "source": [
    "import numpy as np\n",
    "import pandas as pd\n",
    "import matplotlib.pyplot as plt\n",
    "import seaborn as sn"
   ]
  },
  {
   "cell_type": "code",
   "execution_count": 3,
   "metadata": {},
   "outputs": [
    {
     "name": "stderr",
     "output_type": "stream",
     "text": [
      "C:\\Users\\bhn\\Anaconda3\\lib\\site-packages\\seaborn\\utils.py:384: UserWarning: No parser was explicitly specified, so I'm using the best available HTML parser for this system (\"lxml\"). This usually isn't a problem, but if you run this code on another system, or in a different virtual environment, it may use a different parser and behave differently.\n",
      "\n",
      "The code that caused this warning is on line 384 of the file C:\\Users\\bhn\\Anaconda3\\lib\\site-packages\\seaborn\\utils.py. To get rid of this warning, pass the additional argument 'features=\"lxml\"' to the BeautifulSoup constructor.\n",
      "\n",
      "  gh_list = BeautifulSoup(http)\n"
     ]
    },
    {
     "data": {
      "text/plain": [
       "['anagrams',\n",
       " 'anscombe',\n",
       " 'attention',\n",
       " 'brain_networks',\n",
       " 'car_crashes',\n",
       " 'diamonds',\n",
       " 'dots',\n",
       " 'exercise',\n",
       " 'flights',\n",
       " 'fmri',\n",
       " 'gammas',\n",
       " 'geyser',\n",
       " 'iris',\n",
       " 'mpg',\n",
       " 'penguins',\n",
       " 'planets',\n",
       " 'taxis',\n",
       " 'tips',\n",
       " 'titanic']"
      ]
     },
     "execution_count": 3,
     "metadata": {},
     "output_type": "execute_result"
    }
   ],
   "source": [
    "sn.get_dataset_names()"
   ]
  },
  {
   "cell_type": "code",
   "execution_count": 4,
   "metadata": {},
   "outputs": [
    {
     "data": {
      "text/html": [
       "<div>\n",
       "<style scoped>\n",
       "    .dataframe tbody tr th:only-of-type {\n",
       "        vertical-align: middle;\n",
       "    }\n",
       "\n",
       "    .dataframe tbody tr th {\n",
       "        vertical-align: top;\n",
       "    }\n",
       "\n",
       "    .dataframe thead th {\n",
       "        text-align: right;\n",
       "    }\n",
       "</style>\n",
       "<table border=\"1\" class=\"dataframe\">\n",
       "  <thead>\n",
       "    <tr style=\"text-align: right;\">\n",
       "      <th></th>\n",
       "      <th>total_bill</th>\n",
       "      <th>tip</th>\n",
       "      <th>sex</th>\n",
       "      <th>smoker</th>\n",
       "      <th>day</th>\n",
       "      <th>time</th>\n",
       "      <th>size</th>\n",
       "    </tr>\n",
       "  </thead>\n",
       "  <tbody>\n",
       "    <tr>\n",
       "      <th>0</th>\n",
       "      <td>16.99</td>\n",
       "      <td>1.01</td>\n",
       "      <td>Female</td>\n",
       "      <td>No</td>\n",
       "      <td>Sun</td>\n",
       "      <td>Dinner</td>\n",
       "      <td>2</td>\n",
       "    </tr>\n",
       "    <tr>\n",
       "      <th>1</th>\n",
       "      <td>10.34</td>\n",
       "      <td>1.66</td>\n",
       "      <td>Male</td>\n",
       "      <td>No</td>\n",
       "      <td>Sun</td>\n",
       "      <td>Dinner</td>\n",
       "      <td>3</td>\n",
       "    </tr>\n",
       "    <tr>\n",
       "      <th>2</th>\n",
       "      <td>21.01</td>\n",
       "      <td>3.50</td>\n",
       "      <td>Male</td>\n",
       "      <td>No</td>\n",
       "      <td>Sun</td>\n",
       "      <td>Dinner</td>\n",
       "      <td>3</td>\n",
       "    </tr>\n",
       "    <tr>\n",
       "      <th>3</th>\n",
       "      <td>23.68</td>\n",
       "      <td>3.31</td>\n",
       "      <td>Male</td>\n",
       "      <td>No</td>\n",
       "      <td>Sun</td>\n",
       "      <td>Dinner</td>\n",
       "      <td>2</td>\n",
       "    </tr>\n",
       "    <tr>\n",
       "      <th>4</th>\n",
       "      <td>24.59</td>\n",
       "      <td>3.61</td>\n",
       "      <td>Female</td>\n",
       "      <td>No</td>\n",
       "      <td>Sun</td>\n",
       "      <td>Dinner</td>\n",
       "      <td>4</td>\n",
       "    </tr>\n",
       "  </tbody>\n",
       "</table>\n",
       "</div>"
      ],
      "text/plain": [
       "   total_bill   tip     sex smoker  day    time  size\n",
       "0       16.99  1.01  Female     No  Sun  Dinner     2\n",
       "1       10.34  1.66    Male     No  Sun  Dinner     3\n",
       "2       21.01  3.50    Male     No  Sun  Dinner     3\n",
       "3       23.68  3.31    Male     No  Sun  Dinner     2\n",
       "4       24.59  3.61  Female     No  Sun  Dinner     4"
      ]
     },
     "execution_count": 4,
     "metadata": {},
     "output_type": "execute_result"
    }
   ],
   "source": [
    "df = sn.load_dataset('tips')\n",
    "df.head()"
   ]
  },
  {
   "cell_type": "markdown",
   "metadata": {},
   "source": [
    "### Use tips file from the available datasets, work only on the feature total_bill\n",
    "\n",
    "- Visualize boxplot and histogram to comment on the distribution\n",
    "- Comment on skewness and kurtosis\n",
    "- Use both outlier detection methods (IQR Method & Z Method)\n",
    "- Provide your analysis about the outliers obtained\n",
    "- Did you observe any difference in the two methods of outliers?\n",
    "- Find correlation of total_bill and size, comment on the correlation (bivariate analysis)\n",
    "\n",
    "## Share your responses in the same file as comments (so that it is understandable)"
   ]
  },
  {
   "cell_type": "code",
   "execution_count": 5,
   "metadata": {},
   "outputs": [
    {
     "data": {
      "text/plain": [
       "<matplotlib.axes._subplots.AxesSubplot at 0x2bf8889cf88>"
      ]
     },
     "execution_count": 5,
     "metadata": {},
     "output_type": "execute_result"
    },
    {
     "data": {
      "image/png": "[encoded data removed]",
      "text/plain": [
       "<Figure size 432x288 with 1 Axes>"
      ]
     },
     "metadata": {
      "needs_background": "light"
     },
     "output_type": "display_data"
    }
   ],
   "source": [
    "df.boxplot(column=['total_bill'])"
   ]
  },
  {
   "cell_type": "code",
   "execution_count": 7,
   "metadata": {},
   "outputs": [
    {
     "data": {
      "text/plain": [
       "array([[<matplotlib.axes._subplots.AxesSubplot object at 0x000002BF88FEE048>]],\n",
       "      dtype=object)"
      ]
     },
     "execution_count": 7,
     "metadata": {},
     "output_type": "execute_result"
    },
    {
     "data": {
      "image/png": "[encoded data removed]",
      "text/plain": [
       "<Figure size 432x288 with 1 Axes>"
      ]
     },
     "metadata": {
      "needs_background": "light"
     },
     "output_type": "display_data"
    }
   ],
   "source": [
    "df.hist(column=['total_bill'])\n",
    "#count of total bill b/w 15 to 25 is high,whreas >40 is low"
   ]
  },
  {
   "cell_type": "code",
   "execution_count": 32,
   "metadata": {},
   "outputs": [
    {
     "data": {
      "text/plain": [
       "total_bill    10\n",
       "tip           10\n",
       "sex           10\n",
       "smoker        10\n",
       "day           10\n",
       "time          10\n",
       "size          10\n",
       "dtype: int64"
      ]
     },
     "execution_count": 32,
     "metadata": {},
     "output_type": "execute_result"
    }
   ],
   "source": [
    "df[df.total_bill>40].count()\n",
    "#df.describe()"
   ]
  },
  {
   "cell_type": "code",
   "execution_count": null,
   "metadata": {},
   "outputs": [],
   "source": [
    "Skewness-\n",
    "=> The graph is skewed to right , as very less people have total bill >=40.\n",
    "\n",
    "Kurtosis-\n",
    "=>since the model can only learn the scenario of total_bill approximately between 10 to 30 , that is the lesser values of total bill \n",
    " it is leptokurtic curve."
   ]
  },
  {
   "cell_type": "code",
   "execution_count": 26,
   "metadata": {},
   "outputs": [
    {
     "name": "stdout",
     "output_type": "stream",
     "text": [
      "flier [array([48.27, 44.3 , 41.19, 48.17, 50.81, 45.35, 40.55, 43.11, 48.33])]\n",
      "whisker [array([13.3475,  3.07  ]), array([24.1275, 40.17  ])]\n",
      "median [array([17.795, 17.795])]\n",
      "10.780000000000001\n",
      "40.2975\n"
     ]
    },
    {
     "data": {
      "image/png": "[encoded data removed]",
      "text/plain": [
       "<Figure size 432x288 with 1 Axes>"
      ]
     },
     "metadata": {
      "needs_background": "light"
     },
     "output_type": "display_data"
    }
   ],
   "source": [
    "#IQR Method\n",
    "_,bp=df.boxplot(column=['total_bill'],return_type='both')\n",
    "flier=[flier.get_ydata() for flier in bp[\"fliers\"]]\n",
    "whisker=[whiskers.get_ydata() for whiskers in bp[\"whiskers\"]]\n",
    "median=[median.get_ydata() for median in bp[\"medians\"]]\n",
    "IQR = 24.1275 - 13.3475\n",
    "Max_limit = 24.1275 + (1.5*10.78)\n",
    "print(\"flier\", flier)\n",
    "print(\"whisker\", whisker)\n",
    "print(\"median\", median)\n",
    "print(IQR)\n",
    "print(Max_limit)"
   ]
  },
  {
   "cell_type": "code",
   "execution_count": 13,
   "metadata": {},
   "outputs": [
    {
     "name": "stdout",
     "output_type": "stream",
     "text": [
      "[48.27, 48.17, 50.81, 48.33]\n"
     ]
    }
   ],
   "source": [
    "#https://www.geeksforgeeks.org/z-score-for-outlier-detection-python/#:~:text=Z%20score%20is%20also%20called,deviation {Calculating z-score to determine the outliers}\n",
    "#Z-Method\n",
    "arr=np.array(df.total_bill)\n",
    "mean=np.mean(arr)\n",
    "std=np.std(arr)\n",
    "threshold=3\n",
    "outlier=[]\n",
    "for i in arr:\n",
    "    z=(i-mean)/std\n",
    "    if z > threshold:\n",
    "        outlier.append(i)\n",
    "print(outlier)"
   ]
  },
  {
   "cell_type": "code",
   "execution_count": null,
   "metadata": {},
   "outputs": [],
   "source": [
    "\"\"\"Outlier Analysis\"\"\"\n",
    "From box-plot we can clearly observe that all the total_bill values greater than 40 are considered as outliers,\n",
    "as there are only 10 rows out of 244 that have these extreme values which is > 40.2975(Q3+(1.5*IQR))  .\n",
    "However , z-score method gives us only 4 values  [48.27, 48.17, 50.81, 48.33] \n",
    "as only these have  > 3 Standard Deviations away from mean and thereby considered as outliers."
   ]
  },
  {
   "cell_type": "code",
   "execution_count": 27,
   "metadata": {},
   "outputs": [
    {
     "data": {
      "text/html": [
       "<div>\n",
       "<style scoped>\n",
       "    .dataframe tbody tr th:only-of-type {\n",
       "        vertical-align: middle;\n",
       "    }\n",
       "\n",
       "    .dataframe tbody tr th {\n",
       "        vertical-align: top;\n",
       "    }\n",
       "\n",
       "    .dataframe thead th {\n",
       "        text-align: right;\n",
       "    }\n",
       "</style>\n",
       "<table border=\"1\" class=\"dataframe\">\n",
       "  <thead>\n",
       "    <tr style=\"text-align: right;\">\n",
       "      <th></th>\n",
       "      <th>total_bill</th>\n",
       "      <th>tip</th>\n",
       "      <th>size</th>\n",
       "    </tr>\n",
       "  </thead>\n",
       "  <tbody>\n",
       "    <tr>\n",
       "      <th>total_bill</th>\n",
       "      <td>1.000000</td>\n",
       "      <td>0.675734</td>\n",
       "      <td>0.598315</td>\n",
       "    </tr>\n",
       "    <tr>\n",
       "      <th>tip</th>\n",
       "      <td>0.675734</td>\n",
       "      <td>1.000000</td>\n",
       "      <td>0.489299</td>\n",
       "    </tr>\n",
       "    <tr>\n",
       "      <th>size</th>\n",
       "      <td>0.598315</td>\n",
       "      <td>0.489299</td>\n",
       "      <td>1.000000</td>\n",
       "    </tr>\n",
       "  </tbody>\n",
       "</table>\n",
       "</div>"
      ],
      "text/plain": [
       "            total_bill       tip      size\n",
       "total_bill    1.000000  0.675734  0.598315\n",
       "tip           0.675734  1.000000  0.489299\n",
       "size          0.598315  0.489299  1.000000"
      ]
     },
     "execution_count": 27,
     "metadata": {},
     "output_type": "execute_result"
    }
   ],
   "source": [
    "#Pearson Correlation\n",
    "df.corr(method='pearson')"
   ]
  },
  {
   "cell_type": "code",
   "execution_count": 28,
   "metadata": {},
   "outputs": [
    {
     "data": {
      "text/html": [
       "<div>\n",
       "<style scoped>\n",
       "    .dataframe tbody tr th:only-of-type {\n",
       "        vertical-align: middle;\n",
       "    }\n",
       "\n",
       "    .dataframe tbody tr th {\n",
       "        vertical-align: top;\n",
       "    }\n",
       "\n",
       "    .dataframe thead th {\n",
       "        text-align: right;\n",
       "    }\n",
       "</style>\n",
       "<table border=\"1\" class=\"dataframe\">\n",
       "  <thead>\n",
       "    <tr style=\"text-align: right;\">\n",
       "      <th></th>\n",
       "      <th>total_bill</th>\n",
       "      <th>tip</th>\n",
       "      <th>size</th>\n",
       "    </tr>\n",
       "  </thead>\n",
       "  <tbody>\n",
       "    <tr>\n",
       "      <th>total_bill</th>\n",
       "      <td>1.000000</td>\n",
       "      <td>0.678968</td>\n",
       "      <td>0.604791</td>\n",
       "    </tr>\n",
       "    <tr>\n",
       "      <th>tip</th>\n",
       "      <td>0.678968</td>\n",
       "      <td>1.000000</td>\n",
       "      <td>0.468268</td>\n",
       "    </tr>\n",
       "    <tr>\n",
       "      <th>size</th>\n",
       "      <td>0.604791</td>\n",
       "      <td>0.468268</td>\n",
       "      <td>1.000000</td>\n",
       "    </tr>\n",
       "  </tbody>\n",
       "</table>\n",
       "</div>"
      ],
      "text/plain": [
       "            total_bill       tip      size\n",
       "total_bill    1.000000  0.678968  0.604791\n",
       "tip           0.678968  1.000000  0.468268\n",
       "size          0.604791  0.468268  1.000000"
      ]
     },
     "execution_count": 28,
     "metadata": {},
     "output_type": "execute_result"
    }
   ],
   "source": [
    "#Spearman Correlation\n",
    "df.corr(method='spearman')"
   ]
  },
  {
   "cell_type": "code",
   "execution_count": 29,
   "metadata": {},
   "outputs": [
    {
     "data": {
      "text/html": [
       "<style  type=\"text/css\" >\n",
       "    #T_b99cbf2e_0be7_11ed_8a21_f875a4c6168erow0_col0 {\n",
       "            background-color:  #b40426;\n",
       "            color:  #f1f1f1;\n",
       "        }    #T_b99cbf2e_0be7_11ed_8a21_f875a4c6168erow0_col1 {\n",
       "            background-color:  #b5cdfa;\n",
       "            color:  #000000;\n",
       "        }    #T_b99cbf2e_0be7_11ed_8a21_f875a4c6168erow0_col2 {\n",
       "            background-color:  #80a3fa;\n",
       "            color:  #000000;\n",
       "        }    #T_b99cbf2e_0be7_11ed_8a21_f875a4c6168erow1_col0 {\n",
       "            background-color:  #799cf8;\n",
       "            color:  #000000;\n",
       "        }    #T_b99cbf2e_0be7_11ed_8a21_f875a4c6168erow1_col1 {\n",
       "            background-color:  #b40426;\n",
       "            color:  #f1f1f1;\n",
       "        }    #T_b99cbf2e_0be7_11ed_8a21_f875a4c6168erow1_col2 {\n",
       "            background-color:  #3b4cc0;\n",
       "            color:  #f1f1f1;\n",
       "        }    #T_b99cbf2e_0be7_11ed_8a21_f875a4c6168erow2_col0 {\n",
       "            background-color:  #3b4cc0;\n",
       "            color:  #f1f1f1;\n",
       "        }    #T_b99cbf2e_0be7_11ed_8a21_f875a4c6168erow2_col1 {\n",
       "            background-color:  #3b4cc0;\n",
       "            color:  #f1f1f1;\n",
       "        }    #T_b99cbf2e_0be7_11ed_8a21_f875a4c6168erow2_col2 {\n",
       "            background-color:  #b40426;\n",
       "            color:  #f1f1f1;\n",
       "        }</style><table id=\"T_b99cbf2e_0be7_11ed_8a21_f875a4c6168e\" ><thead>    <tr>        <th class=\"blank level0\" ></th>        <th class=\"col_heading level0 col0\" >total_bill</th>        <th class=\"col_heading level0 col1\" >tip</th>        <th class=\"col_heading level0 col2\" >size</th>    </tr></thead><tbody>\n",
       "                <tr>\n",
       "                        <th id=\"T_b99cbf2e_0be7_11ed_8a21_f875a4c6168elevel0_row0\" class=\"row_heading level0 row0\" >total_bill</th>\n",
       "                        <td id=\"T_b99cbf2e_0be7_11ed_8a21_f875a4c6168erow0_col0\" class=\"data row0 col0\" >1.000000</td>\n",
       "                        <td id=\"T_b99cbf2e_0be7_11ed_8a21_f875a4c6168erow0_col1\" class=\"data row0 col1\" >0.675734</td>\n",
       "                        <td id=\"T_b99cbf2e_0be7_11ed_8a21_f875a4c6168erow0_col2\" class=\"data row0 col2\" >0.598315</td>\n",
       "            </tr>\n",
       "            <tr>\n",
       "                        <th id=\"T_b99cbf2e_0be7_11ed_8a21_f875a4c6168elevel0_row1\" class=\"row_heading level0 row1\" >tip</th>\n",
       "                        <td id=\"T_b99cbf2e_0be7_11ed_8a21_f875a4c6168erow1_col0\" class=\"data row1 col0\" >0.675734</td>\n",
       "                        <td id=\"T_b99cbf2e_0be7_11ed_8a21_f875a4c6168erow1_col1\" class=\"data row1 col1\" >1.000000</td>\n",
       "                        <td id=\"T_b99cbf2e_0be7_11ed_8a21_f875a4c6168erow1_col2\" class=\"data row1 col2\" >0.489299</td>\n",
       "            </tr>\n",
       "            <tr>\n",
       "                        <th id=\"T_b99cbf2e_0be7_11ed_8a21_f875a4c6168elevel0_row2\" class=\"row_heading level0 row2\" >size</th>\n",
       "                        <td id=\"T_b99cbf2e_0be7_11ed_8a21_f875a4c6168erow2_col0\" class=\"data row2 col0\" >0.598315</td>\n",
       "                        <td id=\"T_b99cbf2e_0be7_11ed_8a21_f875a4c6168erow2_col1\" class=\"data row2 col1\" >0.489299</td>\n",
       "                        <td id=\"T_b99cbf2e_0be7_11ed_8a21_f875a4c6168erow2_col2\" class=\"data row2 col2\" >1.000000</td>\n",
       "            </tr>\n",
       "    </tbody></table>"
      ],
      "text/plain": [
       "<pandas.io.formats.style.Styler at 0x2bf886bc688>"
      ]
     },
     "execution_count": 29,
     "metadata": {},
     "output_type": "execute_result"
    }
   ],
   "source": [
    "corr=df.corr(method='pearson')\n",
    "corr.style.background_gradient(cmap='coolwarm')"
   ]
  },
  {
   "cell_type": "code",
   "execution_count": 30,
   "metadata": {},
   "outputs": [
    {
     "data": {
      "text/html": [
       "<style  type=\"text/css\" >\n",
       "    #T_01c71f74_0be8_11ed_b438_f875a4c6168erow0_col0 {\n",
       "            background-color:  #b40426;\n",
       "            color:  #f1f1f1;\n",
       "        }    #T_01c71f74_0be8_11ed_b438_f875a4c6168erow0_col1 {\n",
       "            background-color:  #bfd3f6;\n",
       "            color:  #000000;\n",
       "        }    #T_01c71f74_0be8_11ed_b438_f875a4c6168erow0_col2 {\n",
       "            background-color:  #8fb1fe;\n",
       "            color:  #000000;\n",
       "        }    #T_01c71f74_0be8_11ed_b438_f875a4c6168erow1_col0 {\n",
       "            background-color:  #779af7;\n",
       "            color:  #000000;\n",
       "        }    #T_01c71f74_0be8_11ed_b438_f875a4c6168erow1_col1 {\n",
       "            background-color:  #b40426;\n",
       "            color:  #f1f1f1;\n",
       "        }    #T_01c71f74_0be8_11ed_b438_f875a4c6168erow1_col2 {\n",
       "            background-color:  #3b4cc0;\n",
       "            color:  #f1f1f1;\n",
       "        }    #T_01c71f74_0be8_11ed_b438_f875a4c6168erow2_col0 {\n",
       "            background-color:  #3b4cc0;\n",
       "            color:  #f1f1f1;\n",
       "        }    #T_01c71f74_0be8_11ed_b438_f875a4c6168erow2_col1 {\n",
       "            background-color:  #3b4cc0;\n",
       "            color:  #f1f1f1;\n",
       "        }    #T_01c71f74_0be8_11ed_b438_f875a4c6168erow2_col2 {\n",
       "            background-color:  #b40426;\n",
       "            color:  #f1f1f1;\n",
       "        }</style><table id=\"T_01c71f74_0be8_11ed_b438_f875a4c6168e\" ><thead>    <tr>        <th class=\"blank level0\" ></th>        <th class=\"col_heading level0 col0\" >total_bill</th>        <th class=\"col_heading level0 col1\" >tip</th>        <th class=\"col_heading level0 col2\" >size</th>    </tr></thead><tbody>\n",
       "                <tr>\n",
       "                        <th id=\"T_01c71f74_0be8_11ed_b438_f875a4c6168elevel0_row0\" class=\"row_heading level0 row0\" >total_bill</th>\n",
       "                        <td id=\"T_01c71f74_0be8_11ed_b438_f875a4c6168erow0_col0\" class=\"data row0 col0\" >1.000000</td>\n",
       "                        <td id=\"T_01c71f74_0be8_11ed_b438_f875a4c6168erow0_col1\" class=\"data row0 col1\" >0.678968</td>\n",
       "                        <td id=\"T_01c71f74_0be8_11ed_b438_f875a4c6168erow0_col2\" class=\"data row0 col2\" >0.604791</td>\n",
       "            </tr>\n",
       "            <tr>\n",
       "                        <th id=\"T_01c71f74_0be8_11ed_b438_f875a4c6168elevel0_row1\" class=\"row_heading level0 row1\" >tip</th>\n",
       "                        <td id=\"T_01c71f74_0be8_11ed_b438_f875a4c6168erow1_col0\" class=\"data row1 col0\" >0.678968</td>\n",
       "                        <td id=\"T_01c71f74_0be8_11ed_b438_f875a4c6168erow1_col1\" class=\"data row1 col1\" >1.000000</td>\n",
       "                        <td id=\"T_01c71f74_0be8_11ed_b438_f875a4c6168erow1_col2\" class=\"data row1 col2\" >0.468268</td>\n",
       "            </tr>\n",
       "            <tr>\n",
       "                        <th id=\"T_01c71f74_0be8_11ed_b438_f875a4c6168elevel0_row2\" class=\"row_heading level0 row2\" >size</th>\n",
       "                        <td id=\"T_01c71f74_0be8_11ed_b438_f875a4c6168erow2_col0\" class=\"data row2 col0\" >0.604791</td>\n",
       "                        <td id=\"T_01c71f74_0be8_11ed_b438_f875a4c6168erow2_col1\" class=\"data row2 col1\" >0.468268</td>\n",
       "                        <td id=\"T_01c71f74_0be8_11ed_b438_f875a4c6168erow2_col2\" class=\"data row2 col2\" >1.000000</td>\n",
       "            </tr>\n",
       "    </tbody></table>"
      ],
      "text/plain": [
       "<pandas.io.formats.style.Styler at 0x2bf886e3ec8>"
      ]
     },
     "execution_count": 30,
     "metadata": {},
     "output_type": "execute_result"
    }
   ],
   "source": [
    "corr=df.corr(method='spearman')\n",
    "corr.style.background_gradient(cmap='coolwarm')"
   ]
  },
  {
   "cell_type": "code",
   "execution_count": null,
   "metadata": {},
   "outputs": [],
   "source": [
    "#Bivariate Analysis\n",
    "We can see that the pearson correlation between total_bill and size is 0.598315 , \n",
    "spearman correlation between total_bill and size is 0.604791.\n",
    "This signifies \"weak correlation\" relationship between the 2 variables.\n",
    "Also implies that the variable \"size\" is more non-linear and thereby can be dropped."
   ]
  }
 ],
 "metadata": {
  "kernelspec": {
   "display_name": "Python 3",
   "language": "python",
   "name": "python3"
  },
  "language_info": {
   "codemirror_mode": {
    "name": "ipython",
    "version": 3
   },
   "file_extension": ".py",
   "mimetype": "text/x-python",
   "name": "python",
   "nbconvert_exporter": "python",
   "pygments_lexer": "ipython3",
   "version": "3.7.6"
  }
 },
 "nbformat": 4,
 "nbformat_minor": 5
}
