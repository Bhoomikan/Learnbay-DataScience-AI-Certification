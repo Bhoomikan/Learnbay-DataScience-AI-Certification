{
 "cells": [
  {
   "cell_type": "code",
   "execution_count": 1,
   "metadata": {},
   "outputs": [
    {
     "name": "stdout",
     "output_type": "stream",
     "text": [
      "Requirement already satisfied: numpy in c:\\users\\bhn\\anaconda3\\lib\\site-packages (1.18.1)\n",
      "Note: you may need to restart the kernel to use updated packages.\n"
     ]
    },
    {
     "name": "stderr",
     "output_type": "stream",
     "text": [
      "WARNING: You are using pip version 20.2.3; however, version 22.1 is available.\n",
      "You should consider upgrading via the 'C:\\Users\\bhn\\Anaconda3\\python.exe -m pip install --upgrade pip' command.\n"
     ]
    }
   ],
   "source": [
    "pip install numpy"
   ]
  },
  {
   "cell_type": "code",
   "execution_count": 5,
   "metadata": {},
   "outputs": [
    {
     "name": "stdout",
     "output_type": "stream",
     "text": [
      "1.18.1\n"
     ]
    }
   ],
   "source": [
    "#Question 1 : \n",
    "#Write a Python program to print the NumPy version in your system.\n",
    "\n",
    "import numpy as np\n",
    "print(np.__version__)"
   ]
  },
  {
   "cell_type": "code",
   "execution_count": 19,
   "metadata": {},
   "outputs": [
    {
     "name": "stdout",
     "output_type": "stream",
     "text": [
      "[1 6 4 2]\n"
     ]
    }
   ],
   "source": [
    "#Question 2:\n",
    "#Write a Python program to reverse an array (first element becomes last).\n",
    "\n",
    "arr1 = np.array([2,4,6,1])\n",
    "arr2_shape = arr1.shape\n",
    "#print(arr1[-1:-(len(arr1)+1):-1])\n",
    "j=len(arr1)-1\n",
    "arr2=np.empty(arr2_shape,dtype=np.int32)\n",
    "#print(arr2)\n",
    "for i in np.arange(len(arr1)):\n",
    "    arr2[i]=arr1[j]\n",
    "    j-=1\n",
    "print(arr2)"
   ]
  },
  {
   "cell_type": "code",
   "execution_count": 22,
   "metadata": {},
   "outputs": [
    {
     "name": "stdout",
     "output_type": "stream",
     "text": [
      "[1 2 3 4] <class 'numpy.ndarray'>\n",
      "['a' 'b' 'c'] <class 'numpy.ndarray'>\n"
     ]
    }
   ],
   "source": [
    "#Question 3:\n",
    "#Write a Python program to convert a list and tuple into arrays.\n",
    "\n",
    "l = [1,2,3,4]\n",
    "tup = (\"a\",\"b\",\"c\")\n",
    "list_arr = np.array(l)\n",
    "tup_arr = np.array(tup)\n",
    "print(list_arr , type(list_arr))\n",
    "print(tup_arr , type(tup_arr))"
   ]
  },
  {
   "cell_type": "code",
   "execution_count": 23,
   "metadata": {},
   "outputs": [
    {
     "name": "stdout",
     "output_type": "stream",
     "text": [
      "2\n",
      "4\n"
     ]
    }
   ],
   "source": [
    "#Question 4:\n",
    "#Write a Python program to find common values between two arrays.\n",
    "\n",
    "arr1 = np.array([1,2,3,4])\n",
    "arr2 = np.array([4,8,12,2])\n",
    "for i in arr1:\n",
    "    for j in arr2:\n",
    "        if i == j:\n",
    "            print(i)\n",
    "            break"
   ]
  },
  {
   "cell_type": "code",
   "execution_count": 25,
   "metadata": {},
   "outputs": [
    {
     "name": "stdout",
     "output_type": "stream",
     "text": [
      "[False  True False False]\n",
      "[False False False  True]\n"
     ]
    }
   ],
   "source": [
    "#Question 5:\n",
    "#Write a Python program compare two arrays using numpy.\n",
    "\n",
    "arr1 = np.array([1,2,3,4])\n",
    "arr2 = np.array([5,2,7,3])\n",
    "\n",
    "print(arr1==arr2)\n",
    "print(arr1>arr2)"
   ]
  },
  {
   "cell_type": "code",
   "execution_count": 37,
   "metadata": {},
   "outputs": [
    {
     "name": "stdout",
     "output_type": "stream",
     "text": [
      "2\n"
     ]
    }
   ],
   "source": [
    "#Question 6:\n",
    "#Write a Python program to change the dimension of an array.\n",
    "\n",
    "arr1 = np.array([1,2,3])\n",
    "arr2 = np.array([5,6,7])\n",
    "\n",
    "res_arr = np.stack((arr1,arr2),axis=0)\n",
    "print(res_arr.ndim)"
   ]
  },
  {
   "cell_type": "code",
   "execution_count": 67,
   "metadata": {},
   "outputs": [
    {
     "name": "stdout",
     "output_type": "stream",
     "text": [
      "2418\n"
     ]
    }
   ],
   "source": [
    "#Question 7:\n",
    "#Write a Python program (using numpy) to sum of all the multiples of 3 or 5 below 100.\n",
    "\n",
    "arr = np.arange(1,101).reshape(10,10)\n",
    "#print(arr)\n",
    "#print(arr)\n",
    "bool_arr1 = (arr%3==0)\n",
    "#print(bool_arr1)\n",
    "for i in np.arange(len(bool_arr1)):\n",
    "    for j in np.arange(len(bool_arr1[i])):\n",
    "        if bool_arr1[i][j]==False:\n",
    "            if arr[i][j]%5==0:\n",
    "                bool_arr1[i][j]=True\n",
    "res_arr = arr[bool_arr1]\n",
    "print(np.sum(res_arr))\n",
    "    #print(arr%5==0)"
   ]
  },
  {
   "cell_type": "code",
   "execution_count": 68,
   "metadata": {},
   "outputs": [
    {
     "name": "stdout",
     "output_type": "stream",
     "text": [
      "[1, 2, 3, 4, 5] <class 'list'>\n"
     ]
    }
   ],
   "source": [
    "#Question 8:\n",
    "#Write a Python program to convert a NumPy array into Python list structure.\n",
    "\n",
    "arr1 = np.array([1,2,3,4,5])\n",
    "new_list = list(arr1)\n",
    "print(new_list,type(new_list))"
   ]
  },
  {
   "cell_type": "code",
   "execution_count": 69,
   "metadata": {},
   "outputs": [
    {
     "name": "stdout",
     "output_type": "stream",
     "text": [
      "[[ 1  2  3  6  7  8]\n",
      " [ 4  5  6  9 10 11]]\n"
     ]
    }
   ],
   "source": [
    "#Question 9:\n",
    "#Write a Python program to how to add an extra column to a numpy array\n",
    "\n",
    "arr1 = np.array([[1,2,3],[4,5,6]])\n",
    "arr2 = np.array([[6,7,8],[9,10,11]])\n",
    "arr3=np.concatenate((arr1,arr2),axis=1)\n",
    "print(arr3)"
   ]
  },
  {
   "cell_type": "code",
   "execution_count": 73,
   "metadata": {},
   "outputs": [
    {
     "name": "stdout",
     "output_type": "stream",
     "text": [
      "Array Is An Empty Array\n"
     ]
    }
   ],
   "source": [
    "#Question 10:\n",
    "#Write a Python program to check whether the numpy array is empty or not.\n",
    "arr = np.array([])\n",
    "if np.size(arr)==0:\n",
    "    print(\"Array Is An Empty Array\")\n",
    "else:\n",
    "    print(\"Array Is Not An Empty Array\")\n"
   ]
  },
  {
   "cell_type": "code",
   "execution_count": 75,
   "metadata": {},
   "outputs": [
    {
     "name": "stdout",
     "output_type": "stream",
     "text": [
      "Original Array:\n",
      "[[ 0.6069499   0.36223933 -0.09243648]\n",
      " [-0.98286517  0.53198278  0.7286565 ]\n",
      " [ 0.01752133 -0.13457474 -0.91091061]]\n",
      "After normalization:\n",
      "[[0.92888983 0.78591146 0.52025557]\n",
      " [0.         0.88508838 1.        ]\n",
      " [0.58450122 0.49563523 0.04204128]]\n"
     ]
    }
   ],
   "source": [
    "#Question 11:\n",
    "#Write a Python program to normalize a 3x3 random matrix.\n",
    "x= np.random.randn(3,3)\n",
    "print(\"Original Array:\")\n",
    "print(x)\n",
    "xmax, xmin = x.max(), x.min()\n",
    "x = (x - xmin)/(xmax - xmin)\n",
    "print(\"After normalization:\")\n",
    "print(x)"
   ]
  },
  {
   "cell_type": "code",
   "execution_count": 76,
   "metadata": {},
   "outputs": [
    {
     "data": {
      "text/plain": [
       "{'divide': 'warn', 'over': 'warn', 'under': 'ignore', 'invalid': 'warn'}"
      ]
     },
     "execution_count": 76,
     "metadata": {},
     "output_type": "execute_result"
    }
   ],
   "source": [
    "#Question 12:\n",
    "#How to ignore all numpy warnings (not recommended)?\n",
    "np.seterr(all=\"ignore\")\n"
   ]
  },
  {
   "cell_type": "code",
   "execution_count": 78,
   "metadata": {},
   "outputs": [
    {
     "name": "stdout",
     "output_type": "stream",
     "text": [
      "[[4 5 6]\n",
      " [1 2 3]]\n"
     ]
    }
   ],
   "source": [
    "#Question 13:\n",
    "# How to swap two rows of an array?\n",
    "\n",
    "arr = np.array([[1,2,3],[4,5,6]])\n",
    "arr2=np.empty(arr.shape,dtype=np.int32)\n",
    "j=len(arr)-1\n",
    "for i in np.arange(len(arr)):\n",
    "    arr2[i]=arr[j]\n",
    "    j-=1\n",
    "print(arr2)"
   ]
  },
  {
   "cell_type": "code",
   "execution_count": 88,
   "metadata": {},
   "outputs": [
    {
     "name": "stdout",
     "output_type": "stream",
     "text": [
      "[-2 -1 -1 -1  0  0  0  0  0  1]\n"
     ]
    }
   ],
   "source": [
    "#Question 14:\n",
    "#Python program to create a random vector of size 10 and sort it.\n",
    "\n",
    "arr = np.random.randn(10,)\n",
    "res_arr=np.array(arr,dtype=np.int32)\n",
    "sort_arr=np.sort(res_arr)\n",
    "print(sort_arr)"
   ]
  },
  {
   "cell_type": "code",
   "execution_count": 102,
   "metadata": {},
   "outputs": [
    {
     "name": "stdout",
     "output_type": "stream",
     "text": [
      "[3 4 5 6 7]\n",
      "[3 4 5 6 7]\n",
      "Two arrays are  equal\n"
     ]
    }
   ],
   "source": [
    "#Question 15:\n",
    "#Write a Python program to check two random arrays are equal or not.\n",
    "\n",
    "arr1 = np.empty((5,),dtype=np.int32)\n",
    "#arr1 = np.array([6,2,1,5])\n",
    "arr2 = np.empty((5,),dtype=np.int32)\n",
    "print(arr1)\n",
    "print(arr2)\n",
    "arr3=np.sort(arr1)\n",
    "arr4=np.sort(arr2)\n",
    "res_arr = (arr3==arr4)\n",
    "if False in res_arr:\n",
    "    print(\"Two arrays are not equal\")\n",
    "else:\n",
    "    print(\"Two arrays are  equal\")\n",
    "#print(arr2)"
   ]
  },
  {
   "cell_type": "code",
   "execution_count": 103,
   "metadata": {},
   "outputs": [
    {
     "name": "stdout",
     "output_type": "stream",
     "text": [
      "[ 7  9 11 13]\n",
      "[-5 -5 -5 -5]\n",
      "[ 6 14 24 36]\n",
      "[0.16666667 0.28571429 0.375      0.44444444]\n"
     ]
    }
   ],
   "source": [
    "#Question 16\n",
    "#Write a Python program to add, subtract, multiply, divide arguments element-wise.\n",
    "\n",
    "arr1 = np.array([1,2,3,4])\n",
    "arr2 = np.array([6,7,8,9])\n",
    "print(np.add(arr1,arr2))\n",
    "print(np.subtract(arr1,arr2))\n",
    "print(np.multiply(arr1,arr2))\n",
    "print(np.divide(arr1,arr2))"
   ]
  },
  {
   "cell_type": "code",
   "execution_count": 104,
   "metadata": {},
   "outputs": [
    {
     "name": "stdout",
     "output_type": "stream",
     "text": [
      "Today:  2022-05-14\n",
      "Yesterday:  2022-05-13\n",
      "Tomorrow:  2022-05-15\n"
     ]
    }
   ],
   "source": [
    "#Question 17\n",
    "#Write a Python program to get the dates of yesterday, today and tomorrow.\n",
    "\n",
    "today = np.datetime64('today', 'D')\n",
    "print(\"Today: \", today)\n",
    "  \n",
    "# for yesterday\n",
    "yesterday = np.datetime64('today', 'D')- np.timedelta64(1, 'D')\n",
    "  \n",
    "print(\"Yesterday: \", yesterday)\n",
    "  \n",
    "# for tomorrow\n",
    "tomorrow = np.datetime64('today', 'D')+ np.timedelta64(1, 'D')\n",
    "  \n",
    "print(\"Tomorrow: \", tomorrow)\n"
   ]
  },
  {
   "cell_type": "code",
   "execution_count": null,
   "metadata": {},
   "outputs": [],
   "source": []
  }
 ],
 "metadata": {
  "kernelspec": {
   "display_name": "Python 3",
   "language": "python",
   "name": "python3"
  },
  "language_info": {
   "codemirror_mode": {
    "name": "ipython",
    "version": 3
   },
   "file_extension": ".py",
   "mimetype": "text/x-python",
   "name": "python",
   "nbconvert_exporter": "python",
   "pygments_lexer": "ipython3",
   "version": "3.7.6"
  }
 },
 "nbformat": 4,
 "nbformat_minor": 4
}
