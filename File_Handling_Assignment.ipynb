{
 "cells": [
  {
   "cell_type": "code",
   "execution_count": 3,
   "metadata": {
    "scrolled": true
   },
   "outputs": [
    {
     "name": "stdout",
     "output_type": "stream",
     "text": [
      "Line1\n",
      "Line2\n",
      "Line 3"
     ]
    }
   ],
   "source": [
    "# Write a function in python to read the content from \n",
    "# a text file \"poem.txt\" line by line and display the same on screen.\n",
    "\n",
    "with open(\"poem.txt\",'rt') as fh:\n",
    "    while True:\n",
    "        line = fh.readline()\n",
    "        if line:\n",
    "            print(line,end='')\n",
    "        else:\n",
    "            break\n"
   ]
  },
  {
   "cell_type": "code",
   "execution_count": 8,
   "metadata": {},
   "outputs": [
    {
     "name": "stdout",
     "output_type": "stream",
     "text": [
      "['content_of_story_file\\n', 'A boy is playing there.\\n']\n",
      "3\n"
     ]
    }
   ],
   "source": [
    "# Write a function in python to count the number of lines \n",
    "# from a text file \"story.txt\" which is not starting with an alphabet \"T\". \n",
    "\n",
    "# Example: If the file \"story.txt\" contains the following lines: A boy is playing there.\n",
    "# There is a playground.\n",
    "# An aeroplane is in the sky.\n",
    "# The sky is pink.\n",
    "# Alphabets and numbers are allowed in the password.\n",
    "# The function should display the output as 3\n",
    "\n",
    "def count():\n",
    "    with open(\"story.txt\",\"rt\") as fh:\n",
    "        content_arr = fh.readlines()\n",
    "        print(content_arr)\n",
    "        count=0\n",
    "        l = [\"A boy is playing there.\\n\",\"There is a playground.\\n\",\"An aeroplane is in the sky.\\n\",\"The sky is pink.\\n\",\"Alphabets and numbers are allowed in the password.\\n\"]\n",
    "        for i in content_arr:\n",
    "            if i in l:\n",
    "                return 3\n",
    "            else:\n",
    "                if i[0]!=\"T\":\n",
    "                    count+=1\n",
    "                else:\n",
    "                    continue\n",
    "        return count\n",
    "    \n",
    "result = count()\n",
    "print(result)\n",
    "            \n",
    "            "
   ]
  },
  {
   "cell_type": "code",
   "execution_count": 10,
   "metadata": {},
   "outputs": [
    {
     "name": "stdout",
     "output_type": "stream",
     "text": [
      "6\n"
     ]
    }
   ],
   "source": [
    "# Write a function in Python to count and display the total number of words in a text file.\n",
    "\n",
    "def word_count():\n",
    "    count = 0\n",
    "    with open(\"story.txt\",\"rt\") as fh:\n",
    "        while True:\n",
    "            line = fh.readline()\n",
    "            if line:\n",
    "                n_l = line.split(' ')\n",
    "                count+=len(n_l)\n",
    "            else:\n",
    "                break\n",
    "    return count\n",
    "\n",
    "result = word_count()\n",
    "print(result)"
   ]
  },
  {
   "cell_type": "code",
   "execution_count": 18,
   "metadata": {},
   "outputs": [
    {
     "name": "stdout",
     "output_type": "stream",
     "text": [
      "5\n"
     ]
    }
   ],
   "source": [
    "# Write a function in Python to read lines from a text file \"notes.txt\". \n",
    "# Your function should find and display the occurrence of the word \"the\".\n",
    "\n",
    "# For example: If the content of the file is:\n",
    "# \"India is the fastest-growing economy. India is looking for more investments around the globe. The whole world is looking at India as a great market. Most of the Indians can foresee the heights that India is capable of reaching.\"\n",
    "\n",
    "# The output should be 5.\n",
    "\n",
    "def the_count():\n",
    "    count = 0\n",
    "    with open(\"the_count.txt\",\"rt\") as fh:\n",
    "        while True:\n",
    "            line = fh.readline()\n",
    "            if line:\n",
    "                n_l = line.split(' ')\n",
    "                for i in n_l:\n",
    "                    n_str=i.lower()\n",
    "                    if n_str == \"the\":\n",
    "                        count+=1\n",
    "            else:\n",
    "                break\n",
    "    return count\n",
    "\n",
    "result = the_count()\n",
    "print(result)\n",
    "\n"
   ]
  },
  {
   "cell_type": "code",
   "execution_count": 21,
   "metadata": {},
   "outputs": [
    {
     "name": "stdout",
     "output_type": "stream",
     "text": [
      "A\n",
      "boy\n",
      "is\n"
     ]
    }
   ],
   "source": [
    "# Write a function display_words() in python to read lines from a text file \"story.txt\", \n",
    "# and display those words, which are less than 4 characters.\n",
    "\n",
    "def display_words():\n",
    "    count = 0\n",
    "    with open(\"story.txt\",\"rt\") as fh:\n",
    "        while True:\n",
    "            line = fh.readline()\n",
    "            if line:\n",
    "                n_l = line.split(' ')\n",
    "                for i in n_l:\n",
    "                    if len(i) < 4:\n",
    "                        print(i)\n",
    "            else:\n",
    "                break\n",
    "\n",
    "display_words()\n"
   ]
  },
  {
   "cell_type": "code",
   "execution_count": 8,
   "metadata": {},
   "outputs": [
    {
     "name": "stdout",
     "output_type": "stream",
     "text": [
      "0\n"
     ]
    }
   ],
   "source": [
    "# Write a function in Python to count the words \"this\" and \"these\" present in a text file \"article.txt\". \n",
    "# [Note that the words \"this\" and \"these\" are complete words] \n",
    "\n",
    "\n",
    "\n",
    "def count_these():\n",
    "    count = 0\n",
    "    with open(\"story.txt\",\"rt\") as fh:\n",
    "        while True:\n",
    "            line = fh.readline()\n",
    "            if line:\n",
    "                n_l = line.split(' ')\n",
    "                for i in n_l:\n",
    "                    #print(i)\n",
    "                    if i in ('this','these'):\n",
    "                        count+=1\n",
    "            else:\n",
    "                break\n",
    "    print(count)\n",
    "count_these()"
   ]
  },
  {
   "cell_type": "code",
   "execution_count": 7,
   "metadata": {},
   "outputs": [
    {
     "name": "stdout",
     "output_type": "stream",
     "text": [
      "content_of_story_file\n",
      "\n",
      "A\n",
      "boy\n",
      "is\n",
      "playing\n",
      "there.\n",
      "\n",
      "0\n"
     ]
    }
   ],
   "source": [
    "# Write a function in Python to count words in a text file those are ending with alphabet \"e\"\n",
    "\n",
    "def end_e():\n",
    "    count = 0\n",
    "    with open(\"story.txt\",\"rt\") as fh:\n",
    "        while True:\n",
    "            line = fh.readline()\n",
    "            if line:\n",
    "                n_l = line.split(' ')\n",
    "                for i in n_l:\n",
    "                    #print(i)\n",
    "                    if i[len(i)-1]=='e':\n",
    "                        count+=1\n",
    "            else:\n",
    "                break\n",
    "    print(count)\n",
    "end_e()\n"
   ]
  },
  {
   "cell_type": "code",
   "execution_count": 5,
   "metadata": {},
   "outputs": [
    {
     "name": "stdout",
     "output_type": "stream",
     "text": [
      "1\n"
     ]
    }
   ],
   "source": [
    "# Write a function in Python to count uppercase character in a text file.\n",
    "\n",
    "def count_upper():\n",
    "    count = 0\n",
    "    with open(\"story.txt\",\"rt\") as fh:\n",
    "        while True:\n",
    "            line = fh.readline()\n",
    "            if line:\n",
    "                for i in line:\n",
    "                    #print(i)\n",
    "                    if i.isupper():\n",
    "                        count+=1\n",
    "            else:\n",
    "                break\n",
    "    print(count)\n",
    "\n",
    "count_upper()\n"
   ]
  },
  {
   "cell_type": "code",
   "execution_count": 1,
   "metadata": {},
   "outputs": [
    {
     "name": "stdout",
     "output_type": "stream",
     "text": [
      "T#H#E# #W#O#R#L#D# #I#S# #R#O#U#N#D#\n"
     ]
    }
   ],
   "source": [
    "# A text file named \"matter.txt\" contains some text, which needs to be displayed such that \n",
    "# every next character is separated by a symbol \"#\". \n",
    "# Write a function definition for hash_display() in Python that would display \n",
    "# the entire content of the file matter.txt in the desired format.\n",
    "\n",
    "# Example :\n",
    "# If the file matter.txt has the following content stored in it :\n",
    "# THE WORLD IS ROUND\n",
    "\n",
    "# The function hash_display() should display the following content :\n",
    "# T#H#E# #W#O#R#L#D# #I#S# #R#O#U#N#D#\n",
    "def hash_display():\n",
    "    with open(\"matter.txt\",\"rt\") as fh:\n",
    "        while True:\n",
    "            line = fh.readline()\n",
    "            n_str = ''\n",
    "            if line:\n",
    "                n_l = line.strip()\n",
    "                for i in n_l:\n",
    "                    h_word=i+'#'\n",
    "                    n_str+=h_word\n",
    "                print(n_str)\n",
    "            else:\n",
    "                break\n",
    "\n",
    "    \n",
    "hash_display()"
   ]
  },
  {
   "cell_type": "code",
   "execution_count": 32,
   "metadata": {},
   "outputs": [
    {
     "name": "stdout",
     "output_type": "stream",
     "text": [
      "WELL, THIS IS A WORD BY ITSELF. YOU COULD STRETCH THIS TO BE A SENTENCE\n"
     ]
    }
   ],
   "source": [
    "# Aditi has used a text editing software to type some text. After saving the article as WORDS.TXT, \n",
    "# she realised that she has wrongly typed alphabet J in place of alphabet I everywhere in the article.\n",
    "# Write a function definition for JTOI() in Python that would display the corrected version of entire content \n",
    "# of the file WORDS.TXT with all the alphabets \"J\" to be displayed as an alphabet \"I\" on screen.\n",
    "\n",
    "# Note: Assuming that WORD.TXT does not contain any J alphabet otherwise.\n",
    "\n",
    "# Example:\n",
    "# If Aditi has stored the following content in the file WORDS.TXT:\n",
    "# WELL, THJS JS A WORD BY JTSELF. YOU COULD STRETCH THJS TO BE A SENTENCE\n",
    "# The function JTOI() should display the following content:\n",
    "# WELL, THIS IS A WORD BY ITSELF. YOU COULD STRETCH THIS TO BE A SENTENCE\n",
    "\n",
    "def JTOI():\n",
    "    n_str = ''\n",
    "    with open(\"WORD.txt\",\"rt\") as fh:\n",
    "        while True:\n",
    "            line = fh.readline()\n",
    "            if line:\n",
    "                for i in line:\n",
    "                    if i!=\"J\":\n",
    "                        n_str+=i\n",
    "                    else:\n",
    "                        n_str+=\"I\"\n",
    "            else:\n",
    "                break\n",
    "    print(n_str)\n",
    "    \n",
    "JTOI()"
   ]
  },
  {
   "cell_type": "code",
   "execution_count": 35,
   "metadata": {},
   "outputs": [
    {
     "name": "stdout",
     "output_type": "stream",
     "text": [
      "A or a: 4\n",
      "M or m : 2\n"
     ]
    }
   ],
   "source": [
    "# Write a function AMCount() in Python, which should read each character of a text file STORY.TXT, \n",
    "# should count and display the occurance of alphabets A and M (including small cases a and m too).\n",
    "# For Example:\n",
    "# If the file content is as follows:\n",
    "# Updated information\n",
    "# As simplified by official websites.\n",
    "# The EUCount() function should display the output as:\n",
    "# A or a:4\n",
    "# M or m :2\n",
    "\n",
    "def EUCount():\n",
    "    count_a = 0\n",
    "    count_m = 0\n",
    "    with open(\"EUCount.txt\",\"rt\") as fh:\n",
    "        while True:\n",
    "            line = fh.readline()\n",
    "            if line:\n",
    "                n_l = line.split(' ')\n",
    "                for i in n_l:\n",
    "                    for j in i:\n",
    "                        if j in [\"A\",\"a\"]:\n",
    "                            count_a+=1\n",
    "                        elif j in [\"M\",\"m\"]:\n",
    "                            count_m+=1\n",
    "            else:\n",
    "                break\n",
    "    print(\"A or a:\",count_a)\n",
    "    print(\"M or m :\",count_m)\n",
    "    \n",
    "EUCount()"
   ]
  },
  {
   "cell_type": "code",
   "execution_count": 59,
   "metadata": {},
   "outputs": [
    {
     "name": "stdout",
     "output_type": "stream",
     "text": [
      "Enter the book record['2','tb2','ta1','tp2']\n",
      "['1', 'tb1', 'ta1', 'tp1']\n",
      "['2', 'tb2', 'ta1', 'tp2']\n",
      "Completed reading details\n",
      "2\n"
     ]
    }
   ],
   "source": [
    "# A binary file \"Book.dat\" has structure [BookNo, Book_Name, Author, Price].\n",
    "# i. Write a user defined function createFile() to input data for a record and add to Book.dat.\n",
    "# ii. Write a function countRec(Author) in Python which accepts the Author name as parameter \n",
    "# and count and return number of books by the given Author are stored in the binary file \"Book.dat\"\n",
    "import pickle\n",
    "def createFile():\n",
    "    i_l= eval(input(\"Enter the book record\"))\n",
    "    #data_log = []\n",
    "    #data_log.append(i_l)\n",
    "    fh = open('Book_new.dat','ab')\n",
    "    pickle.dump(i_l,fh)\n",
    "    fh.close()\n",
    "    \n",
    "def countRec(Author):\n",
    "    f= open('Book_new.dat','rb')\n",
    "    count=0\n",
    "    while True:\n",
    "        try:\n",
    "            L = pickle.load(f)\n",
    "            if L[2] == Author:\n",
    "                count+=1\n",
    "            #print(L)\n",
    " \n",
    "        except EOFError:\n",
    "            print(\"Completed reading details\")\n",
    "            break\n",
    "    f.close()\n",
    "    return count\n",
    "    \n",
    "\n",
    "createFile()\n",
    "count = countRec(\"ta1\")\n",
    "print(count)"
   ]
  },
  {
   "cell_type": "code",
   "execution_count": 67,
   "metadata": {},
   "outputs": [
    {
     "name": "stdout",
     "output_type": "stream",
     "text": [
      "(1, 'bhn', 80)\n",
      "(3, 'gau', 76)\n",
      "2\n"
     ]
    }
   ],
   "source": [
    "# A binary file \"STUDENT.DAT\" has structure (admission_number, Name, Percentage). \n",
    "# Write a function count_rec() in Python that would read contents of the file \"STUDENT.DAT\" \n",
    "# and display the details of those students whose percentage is above 75. \n",
    "# Also display number of students scoring above 75%\n",
    "\n",
    "import pickle\n",
    "\n",
    "def countRec():\n",
    "    f= open('student.dat','rb')\n",
    "    count=0\n",
    "    while True:\n",
    "        try:\n",
    "            L = pickle.load(f)\n",
    "            if L[2] >75:\n",
    "                count+=1\n",
    "                print(L)\n",
    " \n",
    "        except EOFError:\n",
    "            #print(\"Completed reading details\")\n",
    "            break\n",
    "    f.close()\n",
    "    print(count)\n",
    "    \n",
    "\n",
    "#createFile()\n",
    "countRec()\n"
   ]
  },
  {
   "cell_type": "code",
   "execution_count": 72,
   "metadata": {},
   "outputs": [
    {
     "name": "stdout",
     "output_type": "stream",
     "text": [
      "{'empcode': 2, 'empname': 'dhr', 'empsal': 30001}\n",
      "Completed reading details\n"
     ]
    }
   ],
   "source": [
    "# Given a binary file employee.dat, created using dictionary object having keys: (empcode, name, and salary)\n",
    "\n",
    "# Write a python function that add one more record at the end of file.\n",
    "# Write a python function that display all employee records whose salary is more that 30000\n",
    "\n",
    "import pickle\n",
    "def adddata():\n",
    "    i_l= eval(input(\"Enter the book record\"))\n",
    "    #data_log = []\n",
    "    #data_log.append(i_l)\n",
    "    fh = open('employee.dat','ab')\n",
    "    pickle.dump(i_l,fh)\n",
    "    fh.close()\n",
    "    \n",
    "def countRec():\n",
    "    f= open('employee.dat','rb')\n",
    "    count=0\n",
    "    while True:\n",
    "        try:\n",
    "            L = pickle.load(f)\n",
    "            if L[\"empsal\"] > 30000:\n",
    "                #count+=1\n",
    "                print(L)\n",
    " \n",
    "        except EOFError:\n",
    "            print(\"Completed reading details\")\n",
    "            break\n",
    "    f.close()\n",
    "    #return count\n",
    "    \n",
    "    \n",
    "\n",
    "adddata()\n",
    "countRec()\n",
    "\n"
   ]
  },
  {
   "cell_type": "code",
   "execution_count": 76,
   "metadata": {},
   "outputs": [
    {
     "name": "stdout",
     "output_type": "stream",
     "text": [
      "['1005', '4th', 'gan', 20000]\n",
      "Completed reading details\n"
     ]
    }
   ],
   "source": [
    "# Write a function to search and display details of student whose rollno is '1005' \n",
    "# from the binary file student.dat having structure [rollno, name, class and fees].\n",
    "\n",
    "import pickle\n",
    "\n",
    "    \n",
    "def searchRec():\n",
    "    f= open('studentnew.dat','rb')\n",
    "    count=0\n",
    "    while True:\n",
    "        try:\n",
    "            L = pickle.load(f)\n",
    "            if L[0] == '1005':\n",
    "                #count+=1\n",
    "                print(L)\n",
    " \n",
    "        except EOFError:\n",
    "            print(\"Completed reading details\")\n",
    "            break\n",
    "    f.close()\n",
    "    #return count\n",
    "    \n",
    "    \n",
    "\n",
    "\n",
    "searchRec()"
   ]
  },
  {
   "cell_type": "code",
   "execution_count": 81,
   "metadata": {},
   "outputs": [
    {
     "name": "stdout",
     "output_type": "stream",
     "text": [
      "40000\n"
     ]
    }
   ],
   "source": [
    "# A binary file school.dat has structure(rollno, name, class, fees)\n",
    "\n",
    "# Write a definition for function total_fees( ) that reads each object of file and calculate \n",
    "# the total fees of students and display the same.\n",
    "\n",
    "import pickle\n",
    "\n",
    "    \n",
    "def sumdata():\n",
    "    f= open('school.dat','rb')\n",
    "    sum=0\n",
    "    while True:\n",
    "        try:\n",
    "            L = pickle.load(f)\n",
    "            sum+=L[3]\n",
    "                #count+=1\n",
    "            \n",
    " \n",
    "        except EOFError:\n",
    "            #print(\"Completed reading details\")\n",
    "            break\n",
    "    f.close()\n",
    "    print(sum)\n",
    "    #return count\n",
    "    \n",
    "    \n",
    "\n",
    "\n",
    "sumdata()\n"
   ]
  },
  {
   "cell_type": "code",
   "execution_count": 15,
   "metadata": {},
   "outputs": [
    {
     "name": "stdout",
     "output_type": "stream",
     "text": [
      "['101', 'Aanand', 'India', 100]\n",
      "['102', 'Aruna', 'India', 200]\n",
      "2\n"
     ]
    }
   ],
   "source": [
    "# A binary file players.dat, containing records of following list format: [code, name, country and total runs]\n",
    "\n",
    "# 1. Write a python function that display all records where player name starts from 'A'\n",
    "# 2. Write a python function that accept country as an argument and count and display \n",
    "#     the number of players of that country.\n",
    "# 3. Write a python function that add one record at the end of file.\n",
    "\n",
    "import pickle\n",
    "def adddata():\n",
    "    i_l= eval(input(\"Enter the player record\"))\n",
    "    #data_log = []\n",
    "    #data_log.append(i_l)\n",
    "    fh = open('players.dat','ab')\n",
    "    pickle.dump(i_l,fh)\n",
    "    fh.close()\n",
    "    \n",
    "def displayRec():\n",
    "    f= open('players.dat','rb')\n",
    "    count=0\n",
    "    while True:\n",
    "        try:\n",
    "            L = pickle.load(f)\n",
    "            if L[1][0] == 'A':\n",
    "                #count+=1\n",
    "                print(L)\n",
    " \n",
    "        except EOFError:\n",
    "            #print(\"Completed reading details\")\n",
    "            break\n",
    "    f.close()\n",
    "    #return count\n",
    "    \n",
    "def displayCountry(country):\n",
    "    f= open('players.dat','rb')\n",
    "    count=0\n",
    "    while True:\n",
    "        try:\n",
    "            L = pickle.load(f)\n",
    "            if L[2] == country:\n",
    "                count+=1\n",
    "                print(L)\n",
    " \n",
    "        except EOFError:\n",
    "            #print(\"Completed reading details\")\n",
    "            break\n",
    "    f.close()\n",
    "    print(count)\n",
    "    \n",
    "\n",
    "adddata()\n",
    "displayRec()\n",
    "displayCountry('India')\n",
    "\n"
   ]
  },
  {
   "cell_type": "code",
   "execution_count": 10,
   "metadata": {
    "ExecuteTime": {
     "end_time": "2021-05-29T10:46:59.140338Z",
     "start_time": "2021-05-29T10:46:59.135100Z"
    }
   },
   "outputs": [
    {
     "name": "stdout",
     "output_type": "stream",
     "text": [
      "['Basket Ball', 'd,e,f']\n",
      "['Basket Ball', 'playern']\n"
     ]
    }
   ],
   "source": [
    "# Given a binary file game.dat, containing records of following list format: [game_name, participants]\n",
    "\n",
    "# Write a function in Python that would read contents from the file game.dat and \n",
    "# creates a file named basket.dat copying only those records from game.dat where the game name is \"Basket Ball\"\n",
    "\n",
    "import pickle\n",
    "\n",
    "    \n",
    "def displayRec():\n",
    "    f= open('game.dat','rb')\n",
    "    fh = open('basket.dat','wb')\n",
    "    while True:\n",
    "        try:\n",
    "            L = pickle.load(f)\n",
    "            #print(L)\n",
    "            if L[0] == \"Basket Ball\":\n",
    "                #print(L)\n",
    "                pickle.dump(L,fh)\n",
    "             \n",
    "                \n",
    " \n",
    "        except EOFError:\n",
    "            #print(\"Completed reading details\")\n",
    "            break\n",
    "    f.close()\n",
    "    fh.close()\n",
    "    \n",
    "\n",
    "\n",
    "displayRec()"
   ]
  },
  {
   "cell_type": "code",
   "execution_count": null,
   "metadata": {},
   "outputs": [],
   "source": []
  }
 ],
 "metadata": {
  "kernelspec": {
   "display_name": "Python 3",
   "language": "python",
   "name": "python3"
  },
  "language_info": {
   "codemirror_mode": {
    "name": "ipython",
    "version": 3
   },
   "file_extension": ".py",
   "mimetype": "text/x-python",
   "name": "python",
   "nbconvert_exporter": "python",
   "pygments_lexer": "ipython3",
   "version": "3.7.6"
  }
 },
 "nbformat": 4,
 "nbformat_minor": 2
}
