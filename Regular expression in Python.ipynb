{
 "cells": [
  {
   "cell_type": "code",
   "execution_count": 2,
   "metadata": {},
   "outputs": [],
   "source": [
    "# Regular Expression - It's a string/Pattern (combination of special characters and symbols)\n",
    "# which is used to extract specific data from another string\n",
    "# regex"
   ]
  },
  {
   "cell_type": "code",
   "execution_count": 3,
   "metadata": {},
   "outputs": [],
   "source": [
    "# Module - re\n",
    "import re"
   ]
  },
  {
   "cell_type": "code",
   "execution_count": 4,
   "metadata": {},
   "outputs": [
    {
     "data": {
      "text/plain": [
       "'\\n.       - Any Character Except New Line\\n\\\\d      - Digit (0-9)\\n\\\\D      - Not a Digit (0-9)\\n\\\\w      - Alphanumeric Character (a-z, A-Z, 0-9, _)\\n\\\\W      - Non Alphanumeric Character\\n\\\\s      - Whitespace (space, tab, newline)\\n\\\\S      - Not Whitespace (space, tab, newline)\\n\\n\\x08      - Word Boundary\\n\\\\B      - Not a Word Boundary\\n^       - Beginning of a String\\n$       - End of a String\\n\\n[A-Za-z]   - Matches one Character in brackets\\n[^A-Z]  - Matches Characters NOT in brackets\\n|       - Either Or\\n(com|net)     - Group\\n\\nQuantifiers:\\n*       - 0 or More\\n+       - 1 or More\\n?       - 0 or One\\n{3}     - Exact Number\\n{3,4}   - Range of Numbers (Minimum, Maximum)'"
      ]
     },
     "execution_count": 4,
     "metadata": {},
     "output_type": "execute_result"
    }
   ],
   "source": [
    "# Special characters and quantifiers - help to find and extract information\n",
    "\n",
    "'''\n",
    ".       - Any Character Except New Line\n",
    "\\d      - Digit (0-9)\n",
    "\\D      - Not a Digit (0-9)\n",
    "\\w      - Alphanumeric Character (a-z, A-Z, 0-9, _)\n",
    "\\W      - Non Alphanumeric Character\n",
    "\\s      - Whitespace (space, tab, newline)\n",
    "\\S      - Not Whitespace (space, tab, newline)\n",
    "\n",
    "\\b      - Word Boundary\n",
    "\\B      - Not a Word Boundary\n",
    "^       - Beginning of a String\n",
    "$       - End of a String\n",
    "\n",
    "[A-Za-z]   - Matches one Character in brackets \n",
    "[^A-Z]  - Matches Characters NOT in brackets\n",
    "|       - Either Or\n",
    "(com|net)     - Group\n",
    "\n",
    "Quantifiers:\n",
    "*       - 0 or More\n",
    "+       - 1 or More\n",
    "?       - 0 or One\n",
    "{3}     - Exact Number\n",
    "{3,4}   - Range of Numbers (Minimum, Maximum)'''"
   ]
  },
  {
   "cell_type": "code",
   "execution_count": null,
   "metadata": {},
   "outputs": [],
   "source": []
  },
  {
   "cell_type": "code",
   "execution_count": 5,
   "metadata": {},
   "outputs": [],
   "source": [
    "str1 = 'Hello\\nWelcome to Python'"
   ]
  },
  {
   "cell_type": "code",
   "execution_count": 6,
   "metadata": {},
   "outputs": [
    {
     "name": "stdout",
     "output_type": "stream",
     "text": [
      "Hello\n",
      "Welcome to Python\n"
     ]
    }
   ],
   "source": [
    "print(str1)"
   ]
  },
  {
   "cell_type": "code",
   "execution_count": 7,
   "metadata": {},
   "outputs": [],
   "source": [
    "str2 = r'Hello\\nWelcome to Python' # raw string"
   ]
  },
  {
   "cell_type": "code",
   "execution_count": 8,
   "metadata": {},
   "outputs": [
    {
     "name": "stdout",
     "output_type": "stream",
     "text": [
      "Hello\\nWelcome to Python\n"
     ]
    }
   ],
   "source": [
    "print(str2)"
   ]
  },
  {
   "cell_type": "code",
   "execution_count": null,
   "metadata": {},
   "outputs": [],
   "source": []
  },
  {
   "cell_type": "code",
   "execution_count": 9,
   "metadata": {},
   "outputs": [],
   "source": [
    "# re.match()\n",
    "# re.match(pattern, string)\n",
    "# looks for the pattern in the string at the beginning of the string\n",
    "# If the pattern is found, it returns a 'match object', else returns None"
   ]
  },
  {
   "cell_type": "code",
   "execution_count": 18,
   "metadata": {},
   "outputs": [],
   "source": [
    "# match object - it will have the exact matching string of the pattern \n",
    "# also has the index from which to which the pattern is found"
   ]
  },
  {
   "cell_type": "code",
   "execution_count": 11,
   "metadata": {},
   "outputs": [],
   "source": [
    "str1 = \"Hello\\nWelcome to Python\""
   ]
  },
  {
   "cell_type": "code",
   "execution_count": 12,
   "metadata": {},
   "outputs": [
    {
     "name": "stdout",
     "output_type": "stream",
     "text": [
      "Hello\n",
      "Welcome to Python\n"
     ]
    }
   ],
   "source": [
    "print(str1)"
   ]
  },
  {
   "cell_type": "code",
   "execution_count": null,
   "metadata": {},
   "outputs": [],
   "source": []
  },
  {
   "cell_type": "code",
   "execution_count": 13,
   "metadata": {},
   "outputs": [],
   "source": [
    "with open('regex_file.txt', 'r') as fh:\n",
    "    data = fh.read()"
   ]
  },
  {
   "cell_type": "code",
   "execution_count": 14,
   "metadata": {},
   "outputs": [
    {
     "data": {
      "text/plain": [
       "\"Python3 is a programming language\\nPython3\\nWe are learning Python3\\nWe have completed our assignments\\nlearn python\\nmylearn\\nAssignments are submitted to learnbay3rdfeb@gmail.com\\nMy phone number is      91-9876543210\\na123-456-7890\\nIP address is 192.100.76.24\\n192.101.77.20\\nJothan25@gmail.com\\nWhat are the topics left?\\nJohn lives in Sweden\\nabc@learnbay.com\\njohn123@yahoo.in\\npython2\\nlet's learn regex\\npython34\\nHe says, let me work, buddy!\\nxyz-id-12@gmail.com\\nxyz-id-12@gmail.com_char\\nxyz-id-12@gmail-com\\nxyz-id-12@gmail.whatever\\n-@gmail.com\\n.@gmail.com\""
      ]
     },
     "execution_count": 14,
     "metadata": {},
     "output_type": "execute_result"
    }
   ],
   "source": [
    "data"
   ]
  },
  {
   "cell_type": "code",
   "execution_count": 15,
   "metadata": {},
   "outputs": [],
   "source": [
    "pattern = r'Python3'"
   ]
  },
  {
   "cell_type": "code",
   "execution_count": 16,
   "metadata": {},
   "outputs": [],
   "source": [
    "mat = re.match(pattern, data)"
   ]
  },
  {
   "cell_type": "code",
   "execution_count": 17,
   "metadata": {},
   "outputs": [
    {
     "data": {
      "text/plain": [
       "<re.Match object; span=(0, 7), match='Python3'>"
      ]
     },
     "execution_count": 17,
     "metadata": {},
     "output_type": "execute_result"
    }
   ],
   "source": [
    "mat"
   ]
  },
  {
   "cell_type": "code",
   "execution_count": 20,
   "metadata": {},
   "outputs": [
    {
     "data": {
      "text/plain": [
       "'Python3'"
      ]
     },
     "execution_count": 20,
     "metadata": {},
     "output_type": "execute_result"
    }
   ],
   "source": [
    "mat.group()"
   ]
  },
  {
   "cell_type": "code",
   "execution_count": 21,
   "metadata": {},
   "outputs": [],
   "source": [
    "# group() - used to extract the value from the match object"
   ]
  },
  {
   "cell_type": "code",
   "execution_count": 22,
   "metadata": {},
   "outputs": [
    {
     "data": {
      "text/plain": [
       "(0, 7)"
      ]
     },
     "execution_count": 22,
     "metadata": {},
     "output_type": "execute_result"
    }
   ],
   "source": [
    "mat.span()"
   ]
  },
  {
   "cell_type": "code",
   "execution_count": 23,
   "metadata": {},
   "outputs": [
    {
     "data": {
      "text/plain": [
       "0"
      ]
     },
     "execution_count": 23,
     "metadata": {},
     "output_type": "execute_result"
    }
   ],
   "source": [
    "mat.start()"
   ]
  },
  {
   "cell_type": "code",
   "execution_count": 24,
   "metadata": {},
   "outputs": [
    {
     "data": {
      "text/plain": [
       "7"
      ]
     },
     "execution_count": 24,
     "metadata": {},
     "output_type": "execute_result"
    }
   ],
   "source": [
    "mat.end()"
   ]
  },
  {
   "cell_type": "code",
   "execution_count": 25,
   "metadata": {},
   "outputs": [],
   "source": [
    "pattern = \"programming\""
   ]
  },
  {
   "cell_type": "code",
   "execution_count": 26,
   "metadata": {},
   "outputs": [],
   "source": [
    "mat = re.match(pattern, data)"
   ]
  },
  {
   "cell_type": "code",
   "execution_count": 27,
   "metadata": {},
   "outputs": [],
   "source": [
    "mat"
   ]
  },
  {
   "cell_type": "code",
   "execution_count": 28,
   "metadata": {},
   "outputs": [
    {
     "name": "stdout",
     "output_type": "stream",
     "text": [
      "None\n"
     ]
    }
   ],
   "source": [
    "print(mat)"
   ]
  },
  {
   "cell_type": "code",
   "execution_count": 29,
   "metadata": {},
   "outputs": [],
   "source": [
    "re.match(pattern, data)"
   ]
  },
  {
   "cell_type": "code",
   "execution_count": 30,
   "metadata": {},
   "outputs": [
    {
     "data": {
      "text/plain": [
       "<re.Match object; span=(0, 7), match='Python3'>"
      ]
     },
     "execution_count": 30,
     "metadata": {},
     "output_type": "execute_result"
    }
   ],
   "source": [
    "re.match('Python3', data)"
   ]
  },
  {
   "cell_type": "code",
   "execution_count": 31,
   "metadata": {},
   "outputs": [
    {
     "data": {
      "text/plain": [
       "0"
      ]
     },
     "execution_count": 31,
     "metadata": {},
     "output_type": "execute_result"
    }
   ],
   "source": [
    "data.find('Python3')"
   ]
  },
  {
   "cell_type": "code",
   "execution_count": 32,
   "metadata": {},
   "outputs": [
    {
     "name": "stdout",
     "output_type": "stream",
     "text": [
      "<re.Match object; span=(0, 7), match='Python3'>\n"
     ]
    }
   ],
   "source": [
    "with open('regex_file.txt', 'r') as fh:\n",
    "    data = fh.read()\n",
    "    \n",
    "pattern = r'[A-Za-z]{6}[0-9]'\n",
    "mat = re.match(pattern, data)\n",
    "print(mat)"
   ]
  },
  {
   "cell_type": "code",
   "execution_count": 33,
   "metadata": {},
   "outputs": [
    {
     "name": "stdout",
     "output_type": "stream",
     "text": [
      "None\n"
     ]
    }
   ],
   "source": [
    "with open('regex_file.txt', 'r') as fh:\n",
    "    data = fh.read()\n",
    "    \n",
    "pattern = r'[a-z]{6}[0-9]'\n",
    "mat = re.match(pattern, data)\n",
    "print(mat)"
   ]
  },
  {
   "cell_type": "code",
   "execution_count": 34,
   "metadata": {},
   "outputs": [
    {
     "name": "stdout",
     "output_type": "stream",
     "text": [
      "<re.Match object; span=(0, 7), match='Python3'>\n"
     ]
    }
   ],
   "source": [
    "with open('regex_file.txt', 'r') as fh:\n",
    "    data = fh.read()\n",
    "    \n",
    "pattern = r'[A-Z][a-z]{5}[0-9]'\n",
    "mat = re.match(pattern, data)\n",
    "print(mat)"
   ]
  },
  {
   "cell_type": "code",
   "execution_count": 35,
   "metadata": {},
   "outputs": [
    {
     "name": "stdout",
     "output_type": "stream",
     "text": [
      "None\n"
     ]
    }
   ],
   "source": [
    "with open('regex_file.txt', 'r') as fh:\n",
    "    data = fh.read()\n",
    "    \n",
    "pattern = r'[A-Z][a-z]{5}[0-9]'\n",
    "mat = re.match(pattern, data)\n",
    "print(mat)"
   ]
  },
  {
   "cell_type": "code",
   "execution_count": 38,
   "metadata": {},
   "outputs": [
    {
     "name": "stdout",
     "output_type": "stream",
     "text": [
      "None\n"
     ]
    }
   ],
   "source": [
    "str2 = 'My name is Remya. I am studying Python.'\n",
    "pattern = r'[a-z]{8}[0-2]' # \n",
    "mat = re.match(pattern, str2)\n",
    "print(mat)"
   ]
  },
  {
   "cell_type": "code",
   "execution_count": 40,
   "metadata": {},
   "outputs": [
    {
     "name": "stdout",
     "output_type": "stream",
     "text": [
      "None\n"
     ]
    }
   ],
   "source": [
    "str2 = 'My name is Remya. I am studying Python.'\n",
    "pattern = r'[A-Za-z]{2}[0-2]' # \n",
    "mat = re.match(pattern, str2)\n",
    "print(mat)"
   ]
  },
  {
   "cell_type": "code",
   "execution_count": 41,
   "metadata": {},
   "outputs": [
    {
     "name": "stdout",
     "output_type": "stream",
     "text": [
      "<re.Match object; span=(0, 2), match='My'>\n"
     ]
    }
   ],
   "source": [
    "str2 = 'My name is Remya. I am studying Python.'\n",
    "pattern = r'[A-Za-z]{2}' # \n",
    "mat = re.match(pattern, str2)\n",
    "print(mat)"
   ]
  },
  {
   "cell_type": "code",
   "execution_count": 42,
   "metadata": {},
   "outputs": [
    {
     "name": "stdout",
     "output_type": "stream",
     "text": [
      "<re.Match object; span=(0, 7), match='My name'>\n"
     ]
    }
   ],
   "source": [
    "str2 = 'My name is Remya. I am studying Python.'\n",
    "pattern = r'[A-Za-z]{2}\\s[a-z]{4}' # \n",
    "mat = re.match(pattern, str2)\n",
    "print(mat)"
   ]
  },
  {
   "cell_type": "code",
   "execution_count": 43,
   "metadata": {},
   "outputs": [
    {
     "data": {
      "text/plain": [
       "'My name'"
      ]
     },
     "execution_count": 43,
     "metadata": {},
     "output_type": "execute_result"
    }
   ],
   "source": [
    "mat.group()"
   ]
  },
  {
   "cell_type": "code",
   "execution_count": 44,
   "metadata": {},
   "outputs": [
    {
     "name": "stdout",
     "output_type": "stream",
     "text": [
      "<re.Match object; span=(0, 7), match='Is this'>\n"
     ]
    }
   ],
   "source": [
    "str2 = \"Is this Python's class\"\n",
    "pattern = r'[A-Za-z]{2}\\s[a-z]{4}' # \n",
    "mat = re.match(pattern, str2)\n",
    "print(mat)"
   ]
  },
  {
   "cell_type": "code",
   "execution_count": 45,
   "metadata": {},
   "outputs": [
    {
     "data": {
      "text/plain": [
       "'Is this'"
      ]
     },
     "execution_count": 45,
     "metadata": {},
     "output_type": "execute_result"
    }
   ],
   "source": [
    "mat.group()"
   ]
  },
  {
   "cell_type": "code",
   "execution_count": 46,
   "metadata": {},
   "outputs": [
    {
     "data": {
      "text/plain": [
       "(0, 7)"
      ]
     },
     "execution_count": 46,
     "metadata": {},
     "output_type": "execute_result"
    }
   ],
   "source": [
    "mat.span()"
   ]
  },
  {
   "cell_type": "code",
   "execution_count": 47,
   "metadata": {},
   "outputs": [
    {
     "name": "stdout",
     "output_type": "stream",
     "text": [
      "<re.Match object; span=(0, 7), match='Python3'>\n"
     ]
    }
   ],
   "source": [
    "with open('regex_file.txt', 'r') as fh:\n",
    "    data = fh.read()\n",
    "    \n",
    "pattern = r'[A-Z][a-z]{5}\\d'\n",
    "mat = re.match(pattern, data)\n",
    "print(mat)"
   ]
  },
  {
   "cell_type": "code",
   "execution_count": 48,
   "metadata": {},
   "outputs": [
    {
     "name": "stdout",
     "output_type": "stream",
     "text": [
      "<re.Match object; span=(0, 6), match='Python'>\n"
     ]
    }
   ],
   "source": [
    "with open('regex_file.txt', 'r') as fh:\n",
    "    data = fh.read()\n",
    "    \n",
    "pattern = r'[A-Z][a-z]{5}'\n",
    "mat = re.match(pattern, data)\n",
    "print(mat)"
   ]
  },
  {
   "cell_type": "code",
   "execution_count": 49,
   "metadata": {},
   "outputs": [
    {
     "name": "stdout",
     "output_type": "stream",
     "text": [
      "<re.Match object; span=(0, 5), match='Pytho'>\n"
     ]
    }
   ],
   "source": [
    "with open('regex_file.txt', 'r') as fh:\n",
    "    data = fh.read()\n",
    "    \n",
    "pattern = r'[A-Z][a-z]{4}'\n",
    "mat = re.match(pattern, data)\n",
    "print(mat)"
   ]
  },
  {
   "cell_type": "code",
   "execution_count": null,
   "metadata": {},
   "outputs": [],
   "source": []
  },
  {
   "cell_type": "code",
   "execution_count": 51,
   "metadata": {},
   "outputs": [],
   "source": [
    "# re.search()\n",
    "# re.search(pattern, string)\n",
    "# it finds the pattern in the string\n",
    "# If the pattern is found, it returns the match object of the first occurance, else None\n",
    "# group() - used to extract the matched value from the match object"
   ]
  },
  {
   "cell_type": "code",
   "execution_count": 52,
   "metadata": {},
   "outputs": [
    {
     "name": "stdout",
     "output_type": "stream",
     "text": [
      "<re.Match object; span=(0, 5), match='Pytho'>\n"
     ]
    }
   ],
   "source": [
    "with open('regex_file.txt', 'r') as fh:\n",
    "    data = fh.read()\n",
    "    \n",
    "pattern = r'[A-Z][a-z]{4}'\n",
    "mat = re.search(pattern, data)\n",
    "print(mat)"
   ]
  },
  {
   "cell_type": "code",
   "execution_count": 53,
   "metadata": {},
   "outputs": [
    {
     "name": "stdout",
     "output_type": "stream",
     "text": [
      "<re.Match object; span=(1, 5), match='ytho'>\n"
     ]
    }
   ],
   "source": [
    "with open('regex_file.txt', 'r') as fh:\n",
    "    data = fh.read()\n",
    "    \n",
    "pattern = r'[a-z]{4}'\n",
    "mat = re.search(pattern, data)\n",
    "print(mat)"
   ]
  },
  {
   "cell_type": "code",
   "execution_count": 54,
   "metadata": {},
   "outputs": [
    {
     "name": "stdout",
     "output_type": "stream",
     "text": [
      "<re.Match object; span=(13, 18), match='progr'>\n"
     ]
    }
   ],
   "source": [
    "with open('regex_file.txt', 'r') as fh:\n",
    "    data = fh.read()\n",
    "    \n",
    "pattern = r'[p][a-z]{4}'\n",
    "mat = re.search(pattern, data)\n",
    "print(mat)"
   ]
  },
  {
   "cell_type": "code",
   "execution_count": 55,
   "metadata": {},
   "outputs": [
    {
     "name": "stdout",
     "output_type": "stream",
     "text": [
      "<re.Match object; span=(150, 159), match='learnbay3'>\n"
     ]
    }
   ],
   "source": [
    "with open('regex_file.txt', 'r') as fh:\n",
    "    data = fh.read()\n",
    "    \n",
    "pattern = r'[a-z]{8}\\d' # 8 small case alphabets then 1 digit\n",
    "mat = re.search(pattern, data)\n",
    "print(mat)"
   ]
  },
  {
   "cell_type": "code",
   "execution_count": 56,
   "metadata": {},
   "outputs": [
    {
     "name": "stdout",
     "output_type": "stream",
     "text": [
      "<re.Match object; span=(13, 22), match='considere'>\n"
     ]
    }
   ],
   "source": [
    "str3 = 'Australia is considered as the biggest island and is a beautiful country.'\n",
    "pattern = r'[c][a-z]{8}'\n",
    "mat = re.search(pattern, str3)\n",
    "print(mat)\n"
   ]
  },
  {
   "cell_type": "code",
   "execution_count": null,
   "metadata": {},
   "outputs": [],
   "source": []
  },
  {
   "cell_type": "code",
   "execution_count": 57,
   "metadata": {},
   "outputs": [],
   "source": [
    "# re.findall(pattern, string)\n",
    "# finds all the occurances of the pattern in the string\n",
    "# If the pattern is found, it returns a list of all the match occurances\n",
    "# If not found, it returns an empty list"
   ]
  },
  {
   "cell_type": "code",
   "execution_count": 58,
   "metadata": {},
   "outputs": [
    {
     "name": "stdout",
     "output_type": "stream",
     "text": [
      "['Python3', 'Python3', 'Python3', 'Jothan2']\n"
     ]
    }
   ],
   "source": [
    "with open('regex_file.txt', 'r') as fh:\n",
    "    data = fh.read()\n",
    "    \n",
    "pattern = r'[A-Z][a-z]{5}\\d'\n",
    "mat = re.findall(pattern, data)\n",
    "print(mat)"
   ]
  },
  {
   "cell_type": "code",
   "execution_count": 59,
   "metadata": {},
   "outputs": [
    {
     "name": "stdout",
     "output_type": "stream",
     "text": [
      "['Jothan25']\n"
     ]
    }
   ],
   "source": [
    "with open('regex_file.txt', 'r') as fh:\n",
    "    data = fh.read()\n",
    "    \n",
    "pattern = r'[A-Z][a-z]{5}\\d{2}'\n",
    "mat = re.findall(pattern, data)\n",
    "print(mat)"
   ]
  },
  {
   "cell_type": "code",
   "execution_count": 60,
   "metadata": {},
   "outputs": [
    {
     "data": {
      "text/plain": [
       "\"Python3 is a programming language\\nPython3\\nWe are learning Python3\\nWe have completed our assignments\\nlearn python\\nmylearn\\nAssignments are submitted to learnbay3rdfeb@gmail.com\\nMy phone number is      91-9876543210\\na123-456-7890\\nIP address is 192.100.76.24\\n192.101.77.20\\nJothan25@gmail.com\\nWhat are the topics left?\\nJohn lives in Sweden\\nabc@learnbay.com\\njohn123@yahoo.in\\npython2\\nlet's learn regex\\npython34\\nHe says, let me work, buddy!\\nxyz-id-12@gmail.com\\nxyz-id-12@gmail.com_char\\nxyz-id-12@gmail-com\\nxyz-id-12@gmail.whatever\\n-@gmail.com\\n.@gmail.com\""
      ]
     },
     "execution_count": 60,
     "metadata": {},
     "output_type": "execute_result"
    }
   ],
   "source": [
    "data"
   ]
  },
  {
   "cell_type": "code",
   "execution_count": 61,
   "metadata": {},
   "outputs": [
    {
     "name": "stdout",
     "output_type": "stream",
     "text": [
      "['Jothan25', 'python34']\n"
     ]
    }
   ],
   "source": [
    "with open('regex_file.txt', 'r') as fh:\n",
    "    data = fh.read()\n",
    "    \n",
    "pattern = r'[A-Za-z]{6}\\d{2}'\n",
    "mat = re.findall(pattern, data)\n",
    "print(mat)"
   ]
  },
  {
   "cell_type": "code",
   "execution_count": 62,
   "metadata": {},
   "outputs": [
    {
     "name": "stdout",
     "output_type": "stream",
     "text": [
      "['Jothan25@']\n"
     ]
    }
   ],
   "source": [
    "with open('regex_file.txt', 'r') as fh:\n",
    "    data = fh.read()\n",
    "    \n",
    "pattern = r'[A-Za-z]{6}\\d{2}[@]'\n",
    "mat = re.findall(pattern, data)\n",
    "print(mat)"
   ]
  },
  {
   "cell_type": "code",
   "execution_count": 64,
   "metadata": {},
   "outputs": [
    {
     "name": "stdout",
     "output_type": "stream",
     "text": [
      "['      91', 'ss is 19', 'Jothan25', 'm\\njohn12', 'python34']\n"
     ]
    }
   ],
   "source": [
    "with open('regex_file.txt', 'r') as fh:\n",
    "    data = fh.read()\n",
    "    \n",
    "pattern = r'[A-Za-z\\s]{6}\\d{2}'\n",
    "mat = re.findall(pattern, data)\n",
    "print(mat)"
   ]
  },
  {
   "cell_type": "code",
   "execution_count": 65,
   "metadata": {},
   "outputs": [
    {
     "name": "stdout",
     "output_type": "stream",
     "text": [
      "['learnbay3']\n"
     ]
    }
   ],
   "source": [
    "with open('regex_file.txt', 'r') as fh:\n",
    "    data = fh.read()\n",
    "    \n",
    "pattern = r'l[a-z]{7}\\d'\n",
    "mat = re.findall(pattern, data)\n",
    "print(mat)"
   ]
  },
  {
   "cell_type": "code",
   "execution_count": 66,
   "metadata": {},
   "outputs": [
    {
     "name": "stdout",
     "output_type": "stream",
     "text": [
      "['language', 'learning', 'learnbay', 'learnbay']\n"
     ]
    }
   ],
   "source": [
    "with open('regex_file.txt', 'r') as fh:\n",
    "    data = fh.read()\n",
    "    \n",
    "pattern = r'l[a-z]{7}'\n",
    "mat = re.findall(pattern, data)\n",
    "print(mat)"
   ]
  },
  {
   "cell_type": "code",
   "execution_count": 67,
   "metadata": {},
   "outputs": [
    {
     "name": "stdout",
     "output_type": "stream",
     "text": [
      "['Python3', 'Python3', 'Python3', 'learnbay3', 'a1', 'Jothan2', 'john1', 'python2', 'python3']\n"
     ]
    }
   ],
   "source": [
    "with open('regex_file.txt', 'r') as fh:\n",
    "    data = fh.read()\n",
    "    \n",
    "pattern = r'[A-Za-z]+\\d'\n",
    "mat = re.findall(pattern, data)\n",
    "print(mat)"
   ]
  },
  {
   "cell_type": "code",
   "execution_count": 68,
   "metadata": {},
   "outputs": [
    {
     "name": "stdout",
     "output_type": "stream",
     "text": [
      "['Python3', 'Python3', 'Python3', 'learnbay3', 'a123', 'Jothan25', 'john123', 'python2', 'python34']\n"
     ]
    }
   ],
   "source": [
    "with open('regex_file.txt', 'r') as fh:\n",
    "    data = fh.read()\n",
    "    \n",
    "pattern = r'[A-Za-z]+\\d+'\n",
    "mat = re.findall(pattern, data)\n",
    "print(mat)"
   ]
  },
  {
   "cell_type": "code",
   "execution_count": 69,
   "metadata": {},
   "outputs": [],
   "source": [
    "str1 = 'abc def gfh hbf hb jhbvub'"
   ]
  },
  {
   "cell_type": "code",
   "execution_count": 70,
   "metadata": {},
   "outputs": [
    {
     "name": "stdout",
     "output_type": "stream",
     "text": [
      "['abc', 'def', 'gfh', 'hbf', 'jhb', 'vub']\n"
     ]
    }
   ],
   "source": [
    "pattern = r'[a-z]{3}'\n",
    "mat = re.findall(pattern, str1)\n",
    "print(mat)"
   ]
  },
  {
   "cell_type": "code",
   "execution_count": 71,
   "metadata": {},
   "outputs": [
    {
     "name": "stdout",
     "output_type": "stream",
     "text": [
      "['abc', 'def', 'gfh', 'hbf', 'jhbvub']\n"
     ]
    }
   ],
   "source": [
    "pattern = r'[a-z]{3,6}'\n",
    "mat = re.findall(pattern, str1)\n",
    "print(mat)"
   ]
  },
  {
   "cell_type": "code",
   "execution_count": 72,
   "metadata": {},
   "outputs": [
    {
     "name": "stdout",
     "output_type": "stream",
     "text": [
      "['abc def gfh hbf hb jhbvub']\n"
     ]
    }
   ],
   "source": [
    "pattern = r'[a-z\\s]+'\n",
    "mat = re.findall(pattern, str1)\n",
    "print(mat)"
   ]
  },
  {
   "cell_type": "code",
   "execution_count": null,
   "metadata": {},
   "outputs": [],
   "source": []
  },
  {
   "cell_type": "code",
   "execution_count": 73,
   "metadata": {},
   "outputs": [],
   "source": [
    "# re.finditer(pattern, string)\n",
    "# finds all the occurances of the pattern in the string\\\n",
    "# returns an iterator of the match objects for all occurances \n",
    "# if pattern is not found, it returns None"
   ]
  },
  {
   "cell_type": "code",
   "execution_count": 74,
   "metadata": {},
   "outputs": [
    {
     "name": "stdout",
     "output_type": "stream",
     "text": [
      "<callable_iterator object at 0x000002481F929940>\n"
     ]
    }
   ],
   "source": [
    "with open('regex_file.txt', 'r') as fh:\n",
    "    data = fh.read()\n",
    "    \n",
    "pattern = r'l[a-z]{7}'\n",
    "mat = re.finditer(pattern, data)\n",
    "print(mat)"
   ]
  },
  {
   "cell_type": "code",
   "execution_count": 75,
   "metadata": {},
   "outputs": [
    {
     "name": "stdout",
     "output_type": "stream",
     "text": [
      "<re.Match object; span=(25, 33), match='language'>\n",
      "<re.Match object; span=(49, 57), match='learning'>\n",
      "<re.Match object; span=(150, 158), match='learnbay'>\n",
      "<re.Match object; span=(339, 347), match='learnbay'>\n"
     ]
    }
   ],
   "source": [
    "for i in mat:\n",
    "    print(i)"
   ]
  },
  {
   "cell_type": "code",
   "execution_count": 76,
   "metadata": {},
   "outputs": [
    {
     "name": "stdout",
     "output_type": "stream",
     "text": [
      "<callable_iterator object at 0x000002481FAAF2E0>\n",
      "[<re.Match object; span=(25, 33), match='language'>, <re.Match object; span=(49, 57), match='learning'>, <re.Match object; span=(150, 158), match='learnbay'>, <re.Match object; span=(339, 347), match='learnbay'>]\n"
     ]
    }
   ],
   "source": [
    "with open('regex_file.txt', 'r') as fh:\n",
    "    data = fh.read()\n",
    "    \n",
    "pattern = r'l[a-z]{7}'\n",
    "mat = re.finditer(pattern, data)\n",
    "print(mat)\n",
    "print(list(mat))"
   ]
  },
  {
   "cell_type": "code",
   "execution_count": 78,
   "metadata": {},
   "outputs": [
    {
     "name": "stdout",
     "output_type": "stream",
     "text": [
      "language\n",
      "learning\n",
      "learnbay\n",
      "learnbay\n"
     ]
    }
   ],
   "source": [
    "with open('regex_file.txt', 'r') as fh:\n",
    "    data = fh.read()\n",
    "    \n",
    "pattern = r'l[a-z]{7}'\n",
    "mat = re.finditer(pattern, data)\n",
    "if mat:\n",
    "    for i in mat:\n",
    "        print(i.group())"
   ]
  },
  {
   "cell_type": "code",
   "execution_count": 79,
   "metadata": {},
   "outputs": [],
   "source": [
    "\n",
    "for i in mat:\n",
    "    print(i.group())"
   ]
  },
  {
   "cell_type": "code",
   "execution_count": 81,
   "metadata": {},
   "outputs": [
    {
     "name": "stdout",
     "output_type": "stream",
     "text": [
      "H\n",
      "e\n",
      "l\n",
      "l\n",
      "o\n",
      ",\n",
      " \n",
      "w\n",
      "h\n",
      "a\n",
      "t\n",
      "'\n",
      "s\n",
      " \n",
      "g\n",
      "o\n",
      "i\n",
      "n\n",
      "g\n",
      " \n",
      "o\n",
      "n\n",
      "?\n"
     ]
    }
   ],
   "source": [
    "# . => Any character except \\n\n",
    "\n",
    "data = \"Hello, \\nwhat's going on?\"\n",
    "    \n",
    "pattern = r'.'\n",
    "mat = re.finditer(pattern, data)\n",
    "if mat:\n",
    "    for i in mat:\n",
    "        print(i.group())"
   ]
  },
  {
   "cell_type": "code",
   "execution_count": 82,
   "metadata": {},
   "outputs": [
    {
     "name": "stdout",
     "output_type": "stream",
     "text": [
      "programm\n",
      "language\n",
      "learning\n",
      "complete\n",
      "assignme\n",
      "Assignme\n",
      "submitte\n",
      "learnbay\n",
      "98765432\n",
      "Jothan25\n",
      "learnbay\n",
      "python34\n",
      "com_char\n",
      "whatever\n"
     ]
    }
   ],
   "source": [
    "with open('regex_file.txt', 'r') as fh:\n",
    "    data = fh.read()\n",
    "    \n",
    "pattern = r'\\w{8}'\n",
    "mat = re.finditer(pattern, data)\n",
    "if mat:\n",
    "    for i in mat:\n",
    "        print(i.group())"
   ]
  },
  {
   "cell_type": "code",
   "execution_count": 85,
   "metadata": {},
   "outputs": [
    {
     "name": "stdout",
     "output_type": "stream",
     "text": [
      "<re.Match object; span=(193, 196), match='   '>\n",
      "<re.Match object; span=(196, 199), match='   '>\n",
      "<re.Match object; span=(522, 525), match='\\n-@'>\n",
      "<re.Match object; span=(534, 537), match='\\n.@'>\n"
     ]
    }
   ],
   "source": [
    "with open('regex_file.txt', 'r') as fh:\n",
    "    data = fh.read()\n",
    "    \n",
    "pattern = r'\\W{3}'\n",
    "mat = re.finditer(pattern, data)\n",
    "if mat:\n",
    "    for i in mat:\n",
    "        print(i)"
   ]
  },
  {
   "cell_type": "code",
   "execution_count": 86,
   "metadata": {},
   "outputs": [
    {
     "name": "stdout",
     "output_type": "stream",
     "text": [
      "<re.Match object; span=(13, 24), match='programming'>\n",
      "<re.Match object; span=(77, 83), match='pleted'>\n",
      "<re.Match object; span=(106, 112), match='python'>\n",
      "<re.Match object; span=(178, 183), match='phone'>\n",
      "<re.Match object; span=(303, 307), match='pics'>\n",
      "<re.Match object; span=(369, 376), match='python2'>\n",
      "<re.Match object; span=(395, 403), match='python34'>\n"
     ]
    }
   ],
   "source": [
    "with open('regex_file.txt', 'r') as fh:\n",
    "    data = fh.read()\n",
    "    \n",
    "pattern = r'[p]\\w+'\n",
    "mat = re.finditer(pattern, data)\n",
    "if mat:\n",
    "    for i in mat:\n",
    "        print(i)"
   ]
  },
  {
   "cell_type": "code",
   "execution_count": 87,
   "metadata": {},
   "outputs": [
    {
     "name": "stdout",
     "output_type": "stream",
     "text": [
      "<re.Match object; span=(25, 33), match='language'>\n",
      "<re.Match object; span=(49, 57), match='learning'>\n",
      "<re.Match object; span=(100, 105), match='learn'>\n",
      "<re.Match object; span=(308, 312), match='left'>\n",
      "<re.Match object; span=(319, 324), match='lives'>\n",
      "<re.Match object; span=(339, 347), match='learnbay'>\n",
      "<re.Match object; span=(377, 380), match='let'>\n",
      "<re.Match object; span=(383, 388), match='learn'>\n",
      "<re.Match object; span=(413, 416), match='let'>\n"
     ]
    }
   ],
   "source": [
    "# \\b      - Word Boundary\n",
    "\n",
    "with open('regex_file.txt', 'r') as fh:\n",
    "    data = fh.read()\n",
    "    \n",
    "pattern = r'\\bl[a-zA-Z]*\\b'\n",
    "mat = re.finditer(pattern, data)\n",
    "if mat:\n",
    "    for i in mat:\n",
    "        print(i)"
   ]
  },
  {
   "cell_type": "code",
   "execution_count": 88,
   "metadata": {},
   "outputs": [
    {
     "name": "stdout",
     "output_type": "stream",
     "text": [
      "<re.Match object; span=(25, 33), match='language'>\n",
      "<re.Match object; span=(49, 57), match='learning'>\n",
      "<re.Match object; span=(78, 83), match='leted'>\n",
      "<re.Match object; span=(100, 105), match='learn'>\n",
      "<re.Match object; span=(115, 120), match='learn'>\n",
      "<re.Match object; span=(150, 158), match='learnbay'>\n",
      "<re.Match object; span=(169, 170), match='l'>\n",
      "<re.Match object; span=(282, 283), match='l'>\n",
      "<re.Match object; span=(308, 312), match='left'>\n",
      "<re.Match object; span=(319, 324), match='lives'>\n",
      "<re.Match object; span=(339, 347), match='learnbay'>\n",
      "<re.Match object; span=(377, 380), match='let'>\n",
      "<re.Match object; span=(383, 388), match='learn'>\n",
      "<re.Match object; span=(413, 416), match='let'>\n",
      "<re.Match object; span=(447, 448), match='l'>\n",
      "<re.Match object; span=(467, 468), match='l'>\n",
      "<re.Match object; span=(492, 493), match='l'>\n",
      "<re.Match object; span=(512, 513), match='l'>\n",
      "<re.Match object; span=(529, 530), match='l'>\n",
      "<re.Match object; span=(541, 542), match='l'>\n"
     ]
    }
   ],
   "source": [
    "# \\b      - Word Boundary\n",
    "\n",
    "with open('regex_file.txt', 'r') as fh:\n",
    "    data = fh.read()\n",
    "    \n",
    "pattern = r'l[a-zA-Z]*'\n",
    "mat = re.finditer(pattern, data)\n",
    "if mat:\n",
    "    for i in mat:\n",
    "        print(i)"
   ]
  },
  {
   "cell_type": "code",
   "execution_count": 89,
   "metadata": {},
   "outputs": [
    {
     "name": "stdout",
     "output_type": "stream",
     "text": [
      "<re.Match object; span=(100, 105), match='learn'>\n",
      "<re.Match object; span=(383, 388), match='learn'>\n"
     ]
    }
   ],
   "source": [
    "with open('regex_file.txt', 'r') as fh:\n",
    "    data = fh.read()\n",
    "    \n",
    "pattern = r'\\blearn\\b'\n",
    "mat = re.finditer(pattern, data)\n",
    "if mat:\n",
    "    for i in mat:\n",
    "        print(i)"
   ]
  },
  {
   "cell_type": "code",
   "execution_count": 90,
   "metadata": {},
   "outputs": [
    {
     "name": "stdout",
     "output_type": "stream",
     "text": [
      "<re.Match object; span=(11, 13), match='22'>\n"
     ]
    }
   ],
   "source": [
    "str1 = '192.168.11.22'\n",
    "pattern = r'\\d{2}$'\n",
    "mat = re.finditer(pattern, str1)\n",
    "if mat:\n",
    "    for i in mat:\n",
    "        print(i)"
   ]
  },
  {
   "cell_type": "code",
   "execution_count": 91,
   "metadata": {},
   "outputs": [
    {
     "name": "stdout",
     "output_type": "stream",
     "text": [
      "<re.Match object; span=(0, 2), match='19'>\n",
      "<re.Match object; span=(4, 6), match='16'>\n",
      "<re.Match object; span=(8, 10), match='11'>\n",
      "<re.Match object; span=(11, 13), match='22'>\n"
     ]
    }
   ],
   "source": [
    "str1 = '192.168.11.22'\n",
    "pattern = r'\\d{2}'\n",
    "mat = re.finditer(pattern, str1)\n",
    "if mat:\n",
    "    for i in mat:\n",
    "        print(i)"
   ]
  },
  {
   "cell_type": "code",
   "execution_count": 92,
   "metadata": {},
   "outputs": [
    {
     "name": "stdout",
     "output_type": "stream",
     "text": [
      "<re.Match object; span=(0, 2), match='19'>\n"
     ]
    }
   ],
   "source": [
    "str1 = '192.168.11.22'\n",
    "pattern = r'^\\d{2}'\n",
    "mat = re.finditer(pattern, str1)\n",
    "if mat:\n",
    "    for i in mat:\n",
    "        print(i)"
   ]
  },
  {
   "cell_type": "code",
   "execution_count": 93,
   "metadata": {},
   "outputs": [
    {
     "name": "stdout",
     "output_type": "stream",
     "text": [
      "<re.Match object; span=(11, 13), match='33'>\n"
     ]
    }
   ],
   "source": [
    "str1 = '192.168.11.33'\n",
    "pattern = r'\\d{2}$'\n",
    "mat = re.finditer(pattern, str1)\n",
    "if mat:\n",
    "    for i in mat:\n",
    "        print(i)"
   ]
  },
  {
   "cell_type": "code",
   "execution_count": 94,
   "metadata": {},
   "outputs": [],
   "source": [
    "str1 = '192.168.11.22a'\n",
    "pattern = r'\\d{2}$'\n",
    "mat = re.finditer(pattern, str1)\n",
    "if mat:\n",
    "    for i in mat:\n",
    "        print(i)"
   ]
  },
  {
   "cell_type": "code",
   "execution_count": 95,
   "metadata": {},
   "outputs": [
    {
     "name": "stdout",
     "output_type": "stream",
     "text": [
      "<re.Match object; span=(21, 23), match='in'>\n",
      "<re.Match object; span=(54, 56), match='in'>\n",
      "<re.Match object; span=(74, 77), match='com'>\n",
      "<re.Match object; span=(171, 174), match='com'>\n",
      "<re.Match object; span=(284, 287), match='com'>\n",
      "<re.Match object; span=(325, 327), match='in'>\n",
      "<re.Match object; span=(348, 351), match='com'>\n",
      "<re.Match object; span=(366, 368), match='in'>\n",
      "<re.Match object; span=(449, 452), match='com'>\n",
      "<re.Match object; span=(469, 472), match='com'>\n",
      "<re.Match object; span=(494, 497), match='com'>\n",
      "<re.Match object; span=(531, 534), match='com'>\n",
      "<re.Match object; span=(543, 546), match='com'>\n"
     ]
    }
   ],
   "source": [
    "with open('regex_file.txt', 'r') as fh:\n",
    "    data = fh.read()\n",
    "    \n",
    "pattern = r'(com|in)'\n",
    "mat = re.finditer(pattern, data)\n",
    "if mat:\n",
    "    for i in mat:\n",
    "        print(i)"
   ]
  },
  {
   "cell_type": "code",
   "execution_count": 96,
   "metadata": {},
   "outputs": [
    {
     "name": "stdout",
     "output_type": "stream",
     "text": [
      "<re.Match object; span=(49, 54), match='learn'>\n",
      "<re.Match object; span=(100, 105), match='learn'>\n",
      "<re.Match object; span=(106, 112), match='python'>\n",
      "<re.Match object; span=(115, 120), match='learn'>\n",
      "<re.Match object; span=(150, 155), match='learn'>\n",
      "<re.Match object; span=(339, 344), match='learn'>\n",
      "<re.Match object; span=(369, 375), match='python'>\n",
      "<re.Match object; span=(383, 388), match='learn'>\n",
      "<re.Match object; span=(395, 401), match='python'>\n"
     ]
    }
   ],
   "source": [
    "with open('regex_file.txt', 'r') as fh:\n",
    "    data = fh.read()\n",
    "    \n",
    "pattern = r'(learn|python)'\n",
    "mat = re.finditer(pattern, data)\n",
    "if mat:\n",
    "    for i in mat:\n",
    "        print(i)"
   ]
  },
  {
   "cell_type": "code",
   "execution_count": 97,
   "metadata": {},
   "outputs": [
    {
     "name": "stdout",
     "output_type": "stream",
     "text": [
      "<re.Match object; span=(49, 54), match='learn'>\n",
      "<re.Match object; span=(74, 77), match='com'>\n",
      "<re.Match object; span=(100, 105), match='learn'>\n",
      "<re.Match object; span=(106, 112), match='python'>\n",
      "<re.Match object; span=(115, 120), match='learn'>\n",
      "<re.Match object; span=(150, 155), match='learn'>\n",
      "<re.Match object; span=(171, 174), match='com'>\n",
      "<re.Match object; span=(284, 287), match='com'>\n",
      "<re.Match object; span=(339, 344), match='learn'>\n",
      "<re.Match object; span=(348, 351), match='com'>\n",
      "<re.Match object; span=(369, 375), match='python'>\n",
      "<re.Match object; span=(383, 388), match='learn'>\n",
      "<re.Match object; span=(395, 401), match='python'>\n",
      "<re.Match object; span=(449, 452), match='com'>\n",
      "<re.Match object; span=(469, 472), match='com'>\n",
      "<re.Match object; span=(494, 497), match='com'>\n",
      "<re.Match object; span=(531, 534), match='com'>\n",
      "<re.Match object; span=(543, 546), match='com'>\n"
     ]
    }
   ],
   "source": [
    "with open('regex_file.txt', 'r') as fh:\n",
    "    data = fh.read()\n",
    "    \n",
    "pattern = r'(learn|python|com)'\n",
    "mat = re.finditer(pattern, data)\n",
    "if mat:\n",
    "    for i in mat:\n",
    "        print(i)"
   ]
  },
  {
   "cell_type": "code",
   "execution_count": 98,
   "metadata": {},
   "outputs": [
    {
     "name": "stdout",
     "output_type": "stream",
     "text": [
      "<re.Match object; span=(171, 174), match='com'>\n",
      "<re.Match object; span=(284, 287), match='com'>\n",
      "<re.Match object; span=(325, 327), match='in'>\n",
      "<re.Match object; span=(348, 351), match='com'>\n",
      "<re.Match object; span=(366, 368), match='in'>\n",
      "<re.Match object; span=(449, 452), match='com'>\n",
      "<re.Match object; span=(494, 497), match='com'>\n",
      "<re.Match object; span=(531, 534), match='com'>\n",
      "<re.Match object; span=(543, 546), match='com'>\n"
     ]
    }
   ],
   "source": [
    "with open('regex_file.txt', 'r') as fh:\n",
    "    data = fh.read()\n",
    "    \n",
    "pattern = r'\\b(in|com)\\b'\n",
    "mat = re.finditer(pattern, data)\n",
    "if mat:\n",
    "    for i in mat:\n",
    "        print(i)"
   ]
  },
  {
   "cell_type": "code",
   "execution_count": 99,
   "metadata": {},
   "outputs": [
    {
     "data": {
      "text/plain": [
       "'com\\nMy ph'"
      ]
     },
     "execution_count": 99,
     "metadata": {},
     "output_type": "execute_result"
    }
   ],
   "source": [
    "data[171:180]"
   ]
  },
  {
   "cell_type": "code",
   "execution_count": 101,
   "metadata": {},
   "outputs": [
    {
     "name": "stdout",
     "output_type": "stream",
     "text": [
      "<re.Match object; span=(170, 174), match='.com'>\n",
      "<re.Match object; span=(283, 287), match='.com'>\n",
      "<re.Match object; span=(347, 351), match='.com'>\n",
      "<re.Match object; span=(365, 368), match='.in'>\n",
      "<re.Match object; span=(448, 452), match='.com'>\n",
      "<re.Match object; span=(530, 534), match='.com'>\n",
      "<re.Match object; span=(542, 546), match='.com'>\n"
     ]
    }
   ],
   "source": [
    "with open('regex_file.txt', 'r') as fh:\n",
    "    data = fh.read()\n",
    "    \n",
    "pattern = r'\\b[.](in|com)\\b'\n",
    "mat = re.finditer(pattern, data)\n",
    "if mat:\n",
    "    for i in mat:\n",
    "        print(i)"
   ]
  },
  {
   "cell_type": "code",
   "execution_count": 102,
   "metadata": {},
   "outputs": [],
   "source": [
    "# Match all the email ids"
   ]
  },
  {
   "cell_type": "code",
   "execution_count": 103,
   "metadata": {},
   "outputs": [
    {
     "name": "stdout",
     "output_type": "stream",
     "text": [
      "<callable_iterator object at 0x000002481DBD03A0>\n",
      "<re.Match object; span=(150, 174), match='learnbay3rdfeb@gmail.com'>\n",
      "<re.Match object; span=(269, 287), match='Jothan25@gmail.com'>\n",
      "<re.Match object; span=(335, 351), match='abc@learnbay.com'>\n",
      "<re.Match object; span=(352, 368), match='john123@yahoo.in'>\n",
      "<re.Match object; span=(433, 452), match='xyz-id-12@gmail.com'>\n",
      "<re.Match object; span=(453, 472), match='xyz-id-12@gmail.com'>\n",
      "<re.Match object; span=(498, 522), match='xyz-id-12@gmail.whatever'>\n"
     ]
    }
   ],
   "source": [
    "with open(\"regex_file.txt\", \"r\") as fh:\n",
    "    data=fh.read()\n",
    "pattern=r\"[A-Za-z]+[A-Za-z0-9-]+[@][a-z]+[.](com|in|whatever)\" # it gives mutiple iter objects which are \n",
    "mat=re.finditer(pattern,data)\n",
    "print(mat)\n",
    "if mat:\n",
    "    for i in mat:\n",
    "        print(i)\n"
   ]
  },
  {
   "cell_type": "code",
   "execution_count": 104,
   "metadata": {},
   "outputs": [
    {
     "name": "stdout",
     "output_type": "stream",
     "text": [
      "<re.Match object; span=(150, 174), match='learnbay3rdfeb@gmail.com'>\n",
      "<re.Match object; span=(269, 287), match='Jothan25@gmail.com'>\n",
      "<re.Match object; span=(335, 351), match='abc@learnbay.com'>\n",
      "<re.Match object; span=(352, 368), match='john123@yahoo.in'>\n",
      "<re.Match object; span=(433, 452), match='xyz-id-12@gmail.com'>\n",
      "<re.Match object; span=(498, 522), match='xyz-id-12@gmail.whatever'>\n"
     ]
    }
   ],
   "source": [
    "with open('regex_file.txt','r') as fh:\n",
    "    data=fh.read()\n",
    "pattern=r'\\b[\\w-]+[@][A-Za-z]+[.][A-Za-z]+\\b'\n",
    "\n",
    "mat=re.finditer(pattern,data)\n",
    "\n",
    "if mat:\n",
    "    for i in mat:\n",
    "        print(i)\n"
   ]
  },
  {
   "cell_type": "code",
   "execution_count": 106,
   "metadata": {},
   "outputs": [
    {
     "name": "stdout",
     "output_type": "stream",
     "text": [
      "<re.Match object; span=(150, 174), match='learnbay3rdfeb@gmail.com'>\n",
      "<re.Match object; span=(269, 287), match='Jothan25@gmail.com'>\n",
      "<re.Match object; span=(335, 351), match='abc@learnbay.com'>\n",
      "<re.Match object; span=(352, 368), match='john123@yahoo.in'>\n",
      "<re.Match object; span=(433, 452), match='xyz-id-12@gmail.com'>\n"
     ]
    }
   ],
   "source": [
    "with open('regex_file.txt','r') as fh:\n",
    "    data=fh.read()\n",
    "pattern=r'\\b[\\w-]+[@][A-Za-z]+[.](com|in)\\b'\n",
    "\n",
    "mat=re.finditer(pattern,data)\n",
    "\n",
    "if mat:\n",
    "    for i in mat:\n",
    "        print(i)\n"
   ]
  },
  {
   "cell_type": "code",
   "execution_count": 110,
   "metadata": {},
   "outputs": [
    {
     "name": "stdout",
     "output_type": "stream",
     "text": [
      "<re.Match object; span=(121, 174), match='Assignments are submitted to learnbay3rdfeb@gmail>\n",
      "<re.Match object; span=(269, 287), match='Jothan25@gmail.com'>\n",
      "<re.Match object; span=(335, 351), match='abc@learnbay.com'>\n",
      "<re.Match object; span=(352, 368), match='john123@yahoo.in'>\n",
      "<re.Match object; span=(433, 452), match='xyz-id-12@gmail.com'>\n",
      "<re.Match object; span=(453, 472), match='xyz-id-12@gmail.com'>\n",
      "<re.Match object; span=(478, 497), match='xyz-id-12@gmail-com'>\n"
     ]
    }
   ],
   "source": [
    "with open('regex_file.txt','r') as fh:\n",
    "    data=fh.read()\n",
    "pattern = r'\\b.+@[A-Za-z]+(.com|.in)'\n",
    "\n",
    "mat=re.finditer(pattern,data)\n",
    "\n",
    "if mat:\n",
    "    for i in mat:\n",
    "        print(i)\n"
   ]
  },
  {
   "cell_type": "code",
   "execution_count": 111,
   "metadata": {},
   "outputs": [
    {
     "data": {
      "text/plain": [
       "['learnbay3rdfeb@gmail.com',\n",
       " 'Jothan25@gmail.com',\n",
       " 'abc@learnbay.com',\n",
       " 'john123@yahoo.in',\n",
       " '12@gmail.com',\n",
       " '12@gmail.whatever']"
      ]
     },
     "execution_count": 111,
     "metadata": {},
     "output_type": "execute_result"
    }
   ],
   "source": [
    "with open('regex_file.txt') as fh:\n",
    "    data= fh.read()\n",
    "    \n",
    "mat= r\"\\b[\\w]+[@][a-z]+[.][a-z]+\\b\"\n",
    "\n",
    "email= re.findall(mat,data)\n",
    "\n",
    "email\n"
   ]
  },
  {
   "cell_type": "code",
   "execution_count": 112,
   "metadata": {},
   "outputs": [
    {
     "name": "stdout",
     "output_type": "stream",
     "text": [
      "<re.Match object; span=(150, 174), match='learnbay3rdfeb@gmail.com'>\n",
      "<re.Match object; span=(269, 287), match='Jothan25@gmail.com'>\n",
      "<re.Match object; span=(335, 351), match='abc@learnbay.com'>\n",
      "<re.Match object; span=(352, 368), match='john123@yahoo.in'>\n",
      "<re.Match object; span=(433, 452), match='xyz-id-12@gmail.com'>\n",
      "<re.Match object; span=(478, 497), match='xyz-id-12@gmail-com'>\n",
      "<re.Match object; span=(498, 522), match='xyz-id-12@gmail.whatever'>\n"
     ]
    }
   ],
   "source": [
    "with open('regex_file.txt','r') as fh:\n",
    "    data=fh.read()\n",
    "pattern = r'\\b[\\w-]+[@][a-z]+(.com|.in|.whatever)\\b'\n",
    "\n",
    "mat=re.finditer(pattern,data)\n",
    "\n",
    "if mat:\n",
    "    for i in mat:\n",
    "        print(i)\n"
   ]
  },
  {
   "cell_type": "code",
   "execution_count": 115,
   "metadata": {},
   "outputs": [
    {
     "name": "stdout",
     "output_type": "stream",
     "text": [
      "<re.Match object; span=(0, 22), match='remyarajan86@gmail.com'>\n",
      "<re.Match object; span=(24, 40), match='Raji09@gmail.com'>\n",
      "<re.Match object; span=(42, 60), match='xyz-id-12@gmail.in'>\n",
      "<re.Match object; span=(62, 81), match='xyz-id-12@gmail.com'>\n",
      "<re.Match object; span=(88, 104), match='xyz-id-12@gmail.'>\n",
      "<re.Match object; span=(139, 158), match='jonathan29@ymail.in'>\n"
     ]
    }
   ],
   "source": [
    "str6 = 'remyarajan86@gmail.com, Raji09@gmail.com, xyz-id-12@gmail.in, xyz-id-12@gmail.com_char. xyz-id-12@gmail.whatever, -@gmail.com, .@gmail.com,jonathan29@ymail.in'\n",
    "pattern = r'[\\w-]+\\d+.[a-z]+[.com|.in]+' \n",
    "mat = re.finditer(pattern, str6)\n",
    "if mat:\n",
    "    for i in mat:\n",
    "        print(i)"
   ]
  },
  {
   "cell_type": "code",
   "execution_count": 117,
   "metadata": {},
   "outputs": [
    {
     "data": {
      "text/plain": [
       "['learnbay3rdfeb@gmail.com',\n",
       " 'Jothan25@gmail.com',\n",
       " 'abc@learnbay.com',\n",
       " 'john123@yahoo.in',\n",
       " 'xyz-id-12@gmail.com']"
      ]
     },
     "execution_count": 117,
     "metadata": {},
     "output_type": "execute_result"
    }
   ],
   "source": [
    "with open('regex_file.txt') as fh:\n",
    "    data= fh.read()\n",
    "    \n",
    "mat= r\"\\b[\\w-]+[@][a-z]+[.][a-z]{2,3}\\b\"\n",
    "\n",
    "email= re.findall(mat,data)\n",
    "\n",
    "email\n"
   ]
  },
  {
   "cell_type": "code",
   "execution_count": 120,
   "metadata": {},
   "outputs": [
    {
     "data": {
      "text/plain": [
       "['learnbay3rdfeb@gmail',\n",
       " 'Jothan25@gmail',\n",
       " 'abc@learnbay',\n",
       " 'john123@yahoo',\n",
       " 'xyz-id-12@gmail',\n",
       " 'xyz-id-12@gmail',\n",
       " 'xyz-id-12@gmail',\n",
       " 'xyz-id-12@gmail']"
      ]
     },
     "execution_count": 120,
     "metadata": {},
     "output_type": "execute_result"
    }
   ],
   "source": [
    "with open('regex_file.txt') as fh:\n",
    "    data = fh.read()\n",
    "p = r'\\b[\\w-]+@[A-Za-z]+.][A-Za-z]\\b'\n",
    "\n",
    "re.findall(p,data)\n"
   ]
  },
  {
   "cell_type": "code",
   "execution_count": 122,
   "metadata": {},
   "outputs": [
    {
     "data": {
      "text/plain": [
       "['learnbay3rdfeb@gmail.com',\n",
       " 'Jothan25@gmail.com',\n",
       " 'abc@learnbay.com',\n",
       " 'john123@yahoo.in',\n",
       " 'xyz-id-12@gmail.com',\n",
       " 'xyz-id-12@gmail.whatever']"
      ]
     },
     "execution_count": 122,
     "metadata": {},
     "output_type": "execute_result"
    }
   ],
   "source": [
    "with open('regex_file.txt') as fh:\n",
    "    data = fh.read()\n",
    "p = r'\\b[\\w-]+@[A-Za-z]+[.][A-Za-z]+\\b'\n",
    "import re\n",
    "re.findall(p,data)\n"
   ]
  },
  {
   "cell_type": "code",
   "execution_count": 125,
   "metadata": {},
   "outputs": [
    {
     "name": "stdout",
     "output_type": "stream",
     "text": [
      "<callable_iterator object at 0x000002481DBF2B50>\n",
      "<re.Match object; span=(150, 174), match='learnbay3rdfeb@gmail.com'>\n",
      "<re.Match object; span=(269, 287), match='Jothan25@gmail.com'>\n",
      "<re.Match object; span=(335, 351), match='abc@learnbay.com'>\n",
      "<re.Match object; span=(352, 368), match='john123@yahoo.in'>\n",
      "<re.Match object; span=(433, 452), match='xyz-id-12@gmail.com'>\n",
      "<re.Match object; span=(453, 472), match='xyz-id-12@gmail.com'>\n",
      "<re.Match object; span=(498, 522), match='xyz-id-12@gmail.whatever'>\n"
     ]
    }
   ],
   "source": [
    "with open(\"regex_file.txt\", \"r\") as fh:\n",
    "    data=fh.read()\n",
    "pattern=r\"\\b[\\w-]+[@][a-z]+[.](com|in|whatever)\" # it gives mutiple iter objects which are \n",
    "mat=re.finditer(pattern,data)\n",
    "print(mat)\n",
    "if mat:\n",
    "    for i in mat:\n",
    "        print(i)\n"
   ]
  },
  {
   "cell_type": "code",
   "execution_count": 127,
   "metadata": {},
   "outputs": [
    {
     "name": "stdout",
     "output_type": "stream",
     "text": [
      "<callable_iterator object at 0x000002481D3DFB20>\n",
      "<re.Match object; span=(150, 174), match='learnbay3rdfeb@gmail.com'>\n",
      "<re.Match object; span=(269, 287), match='Jothan25@gmail.com'>\n",
      "<re.Match object; span=(335, 351), match='abc@learnbay.com'>\n",
      "<re.Match object; span=(352, 368), match='john123@yahoo.in'>\n",
      "<re.Match object; span=(433, 452), match='xyz-id-12@gmail.com'>\n",
      "<re.Match object; span=(453, 472), match='xyz-id-12@gmail.com'>\n",
      "<re.Match object; span=(498, 522), match='xyz-id-12@gmail.whatever'>\n"
     ]
    }
   ],
   "source": [
    "with open(\"regex_file.txt\", \"r\") as fh:\n",
    "    data=fh.read()\n",
    "pattern=r\"[a-zA-Z][\\w-]+[@][a-z]+[.](com|in|whatever)\" # it gives mutiple iter objects which are \n",
    "mat=re.finditer(pattern,data)\n",
    "print(mat)\n",
    "if mat:\n",
    "    for i in mat:\n",
    "        print(i)\n"
   ]
  },
  {
   "cell_type": "code",
   "execution_count": null,
   "metadata": {},
   "outputs": [],
   "source": []
  }
 ],
 "metadata": {
  "kernelspec": {
   "display_name": "Python 3",
   "language": "python",
   "name": "python3"
  },
  "language_info": {
   "codemirror_mode": {
    "name": "ipython",
    "version": 3
   },
   "file_extension": ".py",
   "mimetype": "text/x-python",
   "name": "python",
   "nbconvert_exporter": "python",
   "pygments_lexer": "ipython3",
   "version": "3.7.6"
  }
 },
 "nbformat": 4,
 "nbformat_minor": 5
}
