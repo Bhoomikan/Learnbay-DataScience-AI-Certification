{
 "cells": [
  {
   "cell_type": "code",
   "execution_count": 1,
   "metadata": {},
   "outputs": [
    {
     "name": "stdout",
     "output_type": "stream",
     "text": [
      "0     1\n",
      "1     2\n",
      "2     3\n",
      "3    Hi\n",
      "dtype: object\n"
     ]
    }
   ],
   "source": [
    "#Question1\n",
    "'''Write a Python program to create and display a one-dimensional array-like object containing an array of data using\n",
    "Pandas module.'''\n",
    "\n",
    "import pandas as pd\n",
    "s1 = pd.Series([1,2,3,'Hi'])s\n",
    "print(s1)"
   ]
  },
  {
   "cell_type": "code",
   "execution_count": 3,
   "metadata": {},
   "outputs": [
    {
     "name": "stdout",
     "output_type": "stream",
     "text": [
      "[1, 2, 3, 'Hi'] <class 'list'>\n"
     ]
    }
   ],
   "source": [
    "#Question2\n",
    "#Write a Python program to convert a Panda module Series to Python list and its type.\n",
    "\n",
    "s2 = pd.Series([1,2,3,'Hi'])\n",
    "l=list(s2)\n",
    "print(l,type(l))"
   ]
  },
  {
   "cell_type": "code",
   "execution_count": 9,
   "metadata": {},
   "outputs": [
    {
     "name": "stdout",
     "output_type": "stream",
     "text": [
      "Add:  0    2.0\n",
      "1    4.0\n",
      "2    6.0\n",
      "3    NaN\n",
      "dtype: float64\n",
      "Sub:  0    0.0\n",
      "1    0.0\n",
      "2    0.0\n",
      "3    NaN\n",
      "dtype: float64\n",
      "Multiply:  0    1.0\n",
      "1    4.0\n",
      "2    9.0\n",
      "3    NaN\n",
      "dtype: float64\n",
      "Divide:  0    1.0\n",
      "1    1.0\n",
      "2    1.0\n",
      "3    NaN\n",
      "dtype: float64\n"
     ]
    }
   ],
   "source": [
    "#Question3\n",
    "#Write a Python program to add, subtract, multiple and divide two Pandas Series.\n",
    "\n",
    "s1 = pd.Series([1,2,3])\n",
    "s2 = pd.Series([1,2,3,4])\n",
    "add=s1+s2\n",
    "sub=s1-s2\n",
    "mul=s1*s2\n",
    "div=s1/s2\n",
    "print(\"Add: \",add)\n",
    "print(\"Sub: \",sub)\n",
    "print(\"Multiply: \",mul)\n",
    "print(\"Divide: \",div)"
   ]
  },
  {
   "cell_type": "code",
   "execution_count": 11,
   "metadata": {},
   "outputs": [
    {
     "name": "stdout",
     "output_type": "stream",
     "text": [
      "0    False\n",
      "1    False\n",
      "2    False\n",
      "dtype: bool\n",
      "0    True\n",
      "1    True\n",
      "2    True\n",
      "dtype: bool\n"
     ]
    }
   ],
   "source": [
    "#Question4\n",
    "#Write a Python program to compare the elements of the two Pandas Series.\n",
    "\n",
    "s1 = pd.Series([1,2,3])\n",
    "s2 = pd.Series([1,2,3])\n",
    "print(s1>s2)\n",
    "print(s1==s2)\n"
   ]
  },
  {
   "cell_type": "code",
   "execution_count": 12,
   "metadata": {},
   "outputs": [],
   "source": [
    "#Question5\n",
    "#Write a Python program to display the following data columnwise.\n",
    "\n",
    "#No data was given in the question"
   ]
  },
  {
   "cell_type": "code",
   "execution_count": 13,
   "metadata": {},
   "outputs": [
    {
     "name": "stdout",
     "output_type": "stream",
     "text": [
      "           name  age     sex\n",
      "name_label    a   21    male\n",
      "age_label     b   20  female\n",
      "sex_label     c   19  female\n"
     ]
    }
   ],
   "source": [
    "#Question6\n",
    "#Write a Python program to create and display a Data Frame from a specified dictionary data which has the index labels.\n",
    "\n",
    "data = {\n",
    "    'name':['a','b','c'],\n",
    "    'age':[21,20,19],\n",
    "    'sex':['male','female','female']\n",
    "}\n",
    "\n",
    "df = pd.DataFrame(data,index=['name_label','age_label','sex_label'])\n",
    "print(df)"
   ]
  },
  {
   "cell_type": "code",
   "execution_count": 16,
   "metadata": {},
   "outputs": [
    {
     "name": "stdout",
     "output_type": "stream",
     "text": [
      "name_label    a\n",
      "age_label     b\n",
      "sex_label     c\n",
      "Name: name, dtype: object\n",
      "name       a\n",
      "age       21\n",
      "sex     male\n",
      "Name: name_label, dtype: object\n"
     ]
    }
   ],
   "source": [
    "#Question7\n",
    "#Write a Python program to select the specified columns and rows from a given Data Frame.\n",
    "\n",
    "#Inorder to select a column\n",
    "print(df['name'])\n",
    "#Inorder to select a row\n",
    "print(df.loc['name_label'])"
   ]
  },
  {
   "cell_type": "code",
   "execution_count": 17,
   "metadata": {},
   "outputs": [
    {
     "name": "stdout",
     "output_type": "stream",
     "text": [
      "  name  age     sex  score\n",
      "1    b   20  female     16\n",
      "2    c   19  female     20\n"
     ]
    }
   ],
   "source": [
    "#Question8\n",
    "#Write a Python program to select the rows the score is between 15 and 20 (inclusive).\n",
    "\n",
    "data = {\n",
    "    'name':['a','b','c'],\n",
    "    'age':[21,20,19],\n",
    "    'sex':['male','female','female'],\n",
    "    'score':[30,16,20]\n",
    "}\n",
    "\n",
    "df = pd.DataFrame(data)\n",
    "n_df = df[(df.score>=15) & (df.score<=20)]\n",
    "print(n_df)"
   ]
  },
  {
   "cell_type": "code",
   "execution_count": 18,
   "metadata": {},
   "outputs": [
    {
     "name": "stdout",
     "output_type": "stream",
     "text": [
      "  name  age     sex  score  no_of_attempts\n",
      "0    a   21    male     30               1\n",
      "1    b   20  female     16               0\n"
     ]
    }
   ],
   "source": [
    "#Question9\n",
    "'''Write a Python program to select the rows where number of attempts in the examination is less than 2 and score greater than\n",
    "15.'''\n",
    "\n",
    "data = {\n",
    "    'name':['a','b','c'],\n",
    "    'age':[21,20,19],\n",
    "    'sex':['male','female','female'],\n",
    "    'score':[30,16,20],\n",
    "    'no_of_attempts':[1,0,2]\n",
    "}\n",
    "\n",
    "df = pd.DataFrame(data)\n",
    "n_df = df[(df.score>15) & (df.no_of_attempts<2)]\n",
    "print(n_df)"
   ]
  },
  {
   "cell_type": "code",
   "execution_count": 29,
   "metadata": {},
   "outputs": [
    {
     "name": "stdout",
     "output_type": "stream",
     "text": [
      "  name  age     sex  score  no_of_attempts\n",
      "0    a   21    male     30               1\n",
      "1    b   20  female     16               0\n",
      "2    c   19  female     20               2\n",
      "  name  age   sex  score\n",
      "k    n   30  male     20\n",
      "  name  age     sex  score  no_of_attempts\n",
      "0    a   21    male     30             1.0\n",
      "1    b   20  female     16             0.0\n",
      "2    c   19  female     20             2.0\n",
      "k    n   30    male     20             NaN\n"
     ]
    },
    {
     "data": {
      "text/html": [
       "<div>\n",
       "<style scoped>\n",
       "    .dataframe tbody tr th:only-of-type {\n",
       "        vertical-align: middle;\n",
       "    }\n",
       "\n",
       "    .dataframe tbody tr th {\n",
       "        vertical-align: top;\n",
       "    }\n",
       "\n",
       "    .dataframe thead th {\n",
       "        text-align: right;\n",
       "    }\n",
       "</style>\n",
       "<table border=\"1\" class=\"dataframe\">\n",
       "  <thead>\n",
       "    <tr style=\"text-align: right;\">\n",
       "      <th></th>\n",
       "      <th>name</th>\n",
       "      <th>age</th>\n",
       "      <th>sex</th>\n",
       "      <th>score</th>\n",
       "      <th>no_of_attempts</th>\n",
       "    </tr>\n",
       "  </thead>\n",
       "  <tbody>\n",
       "    <tr>\n",
       "      <th>0</th>\n",
       "      <td>a</td>\n",
       "      <td>21</td>\n",
       "      <td>male</td>\n",
       "      <td>30</td>\n",
       "      <td>1.0</td>\n",
       "    </tr>\n",
       "    <tr>\n",
       "      <th>1</th>\n",
       "      <td>b</td>\n",
       "      <td>20</td>\n",
       "      <td>female</td>\n",
       "      <td>16</td>\n",
       "      <td>0.0</td>\n",
       "    </tr>\n",
       "    <tr>\n",
       "      <th>2</th>\n",
       "      <td>c</td>\n",
       "      <td>19</td>\n",
       "      <td>female</td>\n",
       "      <td>20</td>\n",
       "      <td>2.0</td>\n",
       "    </tr>\n",
       "  </tbody>\n",
       "</table>\n",
       "</div>"
      ],
      "text/plain": [
       "  name  age     sex  score  no_of_attempts\n",
       "0    a   21    male     30             1.0\n",
       "1    b   20  female     16             0.0\n",
       "2    c   19  female     20             2.0"
      ]
     },
     "execution_count": 29,
     "metadata": {},
     "output_type": "execute_result"
    }
   ],
   "source": [
    "#Question10\n",
    "'''Write a Python program to append a new row 'k' to Data Frame with given values for each column. Now delete the new row and\n",
    "return the original data frame.'''\n",
    "data = {\n",
    "    'name':['a','b','c'],\n",
    "    'age':[21,20,19],\n",
    "    'sex':['male','female','female'],\n",
    "    'score':[30,16,20],\n",
    "    'no_of_attempts':[1,0,2]\n",
    "}\n",
    "\n",
    "df = pd.DataFrame(data)\n",
    "print(df)\n",
    "\n",
    "n_data = {\n",
    "    'name':['n'],\n",
    "    'age':[30],\n",
    "    'sex':['male'],\n",
    "    'score':[20]\n",
    "}\n",
    "n_df = pd.DataFrame(n_data,index=['k'])\n",
    "print(n_df)\n",
    "\n",
    "res_df=pd.concat([df,n_df])\n",
    "print(res_df)\n",
    "res_df.drop('k')"
   ]
  },
  {
   "cell_type": "code",
   "execution_count": 33,
   "metadata": {},
   "outputs": [
    {
     "name": "stdout",
     "output_type": "stream",
     "text": [
      "  name  age     sex  score  no_of_attempts\n",
      "0    a   21    male     16               1\n",
      "1    b   20  female     30               0\n",
      "2    c   19  female     20               2\n",
      "  name  age     sex  score  no_of_attempts\n",
      "1    b   20  female     30               0\n",
      "2    c   19  female     20               2\n",
      "0    a   21    male     16               1\n"
     ]
    }
   ],
   "source": [
    "#Question11\n",
    "#Write a Python program to sort the data frame first by 'name' in descending order, then by 'score' in ascending order.\n",
    "\n",
    "data = {\n",
    "    'name':['a','b','c'],\n",
    "    'age':[21,20,19],\n",
    "    'sex':['male','female','female'],\n",
    "    'score':[16,30,20],\n",
    "    'no_of_attempts':[1,0,2]\n",
    "}\n",
    "\n",
    "df = pd.DataFrame(data)\n",
    "print(df)\n",
    "df.sort_values(by=\"name\",ascending=False,inplace=True)\n",
    "df.sort_values(by=\"score\",ascending=False,inplace=True)\n",
    "print(df)"
   ]
  },
  {
   "cell_type": "code",
   "execution_count": 34,
   "metadata": {},
   "outputs": [
    {
     "name": "stdout",
     "output_type": "stream",
     "text": [
      "  name  age     sex  score  no_of_attempts country\n",
      "0    a   21    male     16               1   India\n",
      "1    b   20  female     30               0   India\n",
      "2    c   19  female     20               2   India\n"
     ]
    }
   ],
   "source": [
    "#Question12\n",
    "#Write a Python program to insert a new column in existing DataFrame.\n",
    "\n",
    "data = {\n",
    "    'name':['a','b','c'],\n",
    "    'age':[21,20,19],\n",
    "    'sex':['male','female','female'],\n",
    "    'score':[16,30,20],\n",
    "    'no_of_attempts':[1,0,2]\n",
    "}\n",
    "\n",
    "df = pd.DataFrame(data)\n",
    "\n",
    "df['country']='India'\n",
    "print(df)"
   ]
  },
  {
   "cell_type": "code",
   "execution_count": 36,
   "metadata": {},
   "outputs": [
    {
     "name": "stdout",
     "output_type": "stream",
     "text": [
      "     name  age     sex  score  no_of_attempts\n",
      "0  Suresh   21    male     16               1\n",
      "1       b   20  female     30               0\n",
      "2  Suresh   19  female     20               2\n"
     ]
    }
   ],
   "source": [
    "#Question13\n",
    "#Write a Python program to change the name 'James' to 'Suresh' in name column of the data frame.\n",
    "import numpy as np \n",
    "\n",
    "data = {\n",
    "    'name':['James','b','James'],\n",
    "    'age':[21,20,19],\n",
    "    'sex':['male','female','female'],\n",
    "    'score':[16,30,20],\n",
    "    'no_of_attempts':[1,0,2]\n",
    "}\n",
    "\n",
    "df = pd.DataFrame(data)\n",
    "condition = [(df.name=='James')]\n",
    "choice = ['Suresh']\n",
    "df['name'] = np.select(condition,choice,df.name)\n",
    "print(df)\n"
   ]
  },
  {
   "cell_type": "code",
   "execution_count": null,
   "metadata": {},
   "outputs": [],
   "source": []
  }
 ],
 "metadata": {
  "kernelspec": {
   "display_name": "Python 3",
   "language": "python",
   "name": "python3"
  },
  "language_info": {
   "codemirror_mode": {
    "name": "ipython",
    "version": 3
   },
   "file_extension": ".py",
   "mimetype": "text/x-python",
   "name": "python",
   "nbconvert_exporter": "python",
   "pygments_lexer": "ipython3",
   "version": "3.7.6"
  }
 },
 "nbformat": 4,
 "nbformat_minor": 4
}
