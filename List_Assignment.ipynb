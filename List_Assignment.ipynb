{
 "cells": [
  {
   "cell_type": "code",
   "execution_count": 6,
   "metadata": {
    "id": "gtlAv2oq9yzd"
   },
   "outputs": [
    {
     "name": "stdout",
     "output_type": "stream",
     "text": [
      "100\n"
     ]
    }
   ],
   "source": [
    "#Write a Python program to find the sum of all elements in a list using loop.\n",
    "#Input:- [10,20,30,40]\n",
    "#Output:- 100\n",
    "l=[10,20,30,40]\n",
    "sum=0\n",
    "for i in l:\n",
    "    sum+=i\n",
    "print(sum)\n",
    "\n"
   ]
  },
  {
   "cell_type": "code",
   "execution_count": 7,
   "metadata": {
    "id": "gTbA8psa93Y_"
   },
   "outputs": [
    {
     "name": "stdout",
     "output_type": "stream",
     "text": [
      "240000\n"
     ]
    }
   ],
   "source": [
    "#Write a Python program to find the multiplication of all elements in a list using loop.\n",
    "#Input:- [10,20,30,40]\n",
    "#Output:- 240000\n",
    "l=[10,20,30,40]\n",
    "mul=1\n",
    "for i in l:\n",
    "    mul=mul*i\n",
    "print(mul)\n",
    "\n",
    "\n"
   ]
  },
  {
   "cell_type": "code",
   "execution_count": 8,
   "metadata": {
    "id": "XBCrEtLN94Lj"
   },
   "outputs": [
    {
     "name": "stdout",
     "output_type": "stream",
     "text": [
      "2321\n"
     ]
    }
   ],
   "source": [
    "#Write a Python program to find the largest number from a list using loop.\n",
    "#Input:- [10,100,2321, 1,200,2]\n",
    "#Output:- 2321\n",
    "\n",
    "l = [10,100,2321, 1,200,2]\n",
    "largest = -1\n",
    "for i in l:\n",
    "    if i > largest:\n",
    "        largest = i\n",
    "print(largest)\n"
   ]
  },
  {
   "cell_type": "code",
   "execution_count": 13,
   "metadata": {
    "id": "l3paUtbH94Vw"
   },
   "outputs": [
    {
     "name": "stdout",
     "output_type": "stream",
     "text": [
      "1\n"
     ]
    }
   ],
   "source": [
    "#Write a Python program to find the smallest number from a list using loop.\n",
    "#Input:- [10,100,2321, 1,200,2]\n",
    "#Output:- 1\n",
    "l = [10,100,2321, 1,200,2]\n",
    "smallest = 9999999\n",
    "for i in l:\n",
    "    if i < smallest:\n",
    "        smallest = i\n",
    "print(smallest)\n",
    "\n",
    "\n"
   ]
  },
  {
   "cell_type": "code",
   "execution_count": 12,
   "metadata": {
    "id": "JTVgy5VD94cE"
   },
   "outputs": [
    {
     "name": "stdout",
     "output_type": "stream",
     "text": [
      "2\n"
     ]
    }
   ],
   "source": [
    "#Write a Python program to count the number of strings having length more than 2 and are palindrome in a list using loop.\n",
    "#Input:- ['ab', 'abc', 'aba', 'xyz', '1991']\n",
    "#Output:- 2\n",
    "l = ['ab', 'abc', 'aba', 'xyz', '1991']\n",
    "count=0\n",
    "for i in l:\n",
    "    if(len(i)>2):\n",
    "        string = i\n",
    "        m=0\n",
    "        n=len(i)-1\n",
    "        flag=0\n",
    "        while(m<=n):\n",
    "            if(i[m]==i[n]):\n",
    "                m+=1\n",
    "                n-=1\n",
    "                flag=1\n",
    "            else:\n",
    "                flag=0\n",
    "                break\n",
    "        if(flag==1):\n",
    "            count+=1\n",
    "print(count)"
   ]
  },
  {
   "cell_type": "code",
   "execution_count": 33,
   "metadata": {
    "id": "xs-ZGJbJ94gr"
   },
   "outputs": [
    {
     "name": "stdout",
     "output_type": "stream",
     "text": [
      "[1, 2, 9, 10, 65, 80, 100, 298, 483, 9213, 49876]\n"
     ]
    }
   ],
   "source": [
    "#Write a Python program to sort a list in ascending order using loop.\n",
    "#Input:- [100,10,1,298,65,483,49876,2,80,9,9213]\n",
    "#Output:- [1,2,9,10,65,80,100,298,483,9213,49876]\n",
    "\n",
    "l=[100,10,1,298,65,483,49876,2,80,9,9213]\n",
    "l_s=[]\n",
    "count=0\n",
    "length=len(l)\n",
    "while(count<length):\n",
    "    smallest=99999999\n",
    "    for j in l:\n",
    "        if j<smallest:\n",
    "            if(len(l_s)!=0 and j>l_s[len(l_s)-1]):\n",
    "                smallest=j\n",
    "            else:\n",
    "                smallest=j\n",
    "    l_s.append(smallest)\n",
    "    l.remove(smallest)\n",
    "    if(len(l)!=0):\n",
    "        j=l[0]\n",
    "    count+=1\n",
    "print(l_s)\n",
    "                \n"
   ]
  },
  {
   "cell_type": "code",
   "execution_count": 34,
   "metadata": {
    "id": "VhKQJizZ94kg"
   },
   "outputs": [
    {
     "name": "stdout",
     "output_type": "stream",
     "text": [
      "[(9, 1), (2, 3), (5, 4), (5, 5), (7, 6), (5, 9)]\n"
     ]
    }
   ],
   "source": [
    "#Write a Python program to get a sorted list in increasing order of last element in each tuple in a given list using loop.\n",
    "#Input:- [(5,4),(9,1),(2,3),(5,9),(7,6),(5,5)]\n",
    "#output:- [(9,1),(2,3),(5,4),(5,5),(7,6),(5,9)]\n",
    "\n",
    "l = [(5,4),(9,1),(2,3),(5,9),(7,6),(5,5)]\n",
    "l_s=[]\n",
    "count=0\n",
    "length=len(l)\n",
    "while(count<length):\n",
    "    smallest=99999999\n",
    "    for j in l:\n",
    "        if j[1]<smallest:\n",
    "            if(len(l_s)!=0 and j>l_s[len(l_s)-1]):\n",
    "                smallest=j[1]\n",
    "                ele=j\n",
    "            else:\n",
    "                smallest=j[1]\n",
    "                ele=j\n",
    "    l_s.append(ele)\n",
    "    l.remove(ele)\n",
    "    if(len(l)!=0):\n",
    "        j=l[0]\n",
    "    count+=1\n",
    "print(l_s)"
   ]
  },
  {
   "cell_type": "code",
   "execution_count": 43,
   "metadata": {
    "id": "YJrCLYp694n_"
   },
   "outputs": [
    {
     "name": "stdout",
     "output_type": "stream",
     "text": [
      "[768, 1, 10, 11, 876, 92, 29]\n"
     ]
    }
   ],
   "source": [
    "#Write a Python program to remove fuplicate element from a list using loop.\n",
    "#Input:- [10,1,11,1,29,876,768,10,11,1,92,29,876]\n",
    "#Output:- [10,1,11,29,876,768,92]\n",
    "\n",
    "l=[10,1,11,1,29,876,768,10,11,1,92,29,876]\n",
    "set_nos=set()\n",
    "for i in l:\n",
    "    set_nos.add(i)\n",
    "n_l=list(set_nos)\n",
    "print(n_l)\n",
    "\n",
    "\n",
    "\n"
   ]
  },
  {
   "cell_type": "code",
   "execution_count": 20,
   "metadata": {
    "id": "koYe4YCu94rh"
   },
   "outputs": [
    {
     "name": "stdout",
     "output_type": "stream",
     "text": [
      "List is not empty\n"
     ]
    }
   ],
   "source": [
    "#Write a Python program to check a list is empty or not?\n",
    "#Input:- []\n",
    "#Output:- List is empty\n",
    "#Input:- [10,20,30]\n",
    "#Output:- List is not empty\n",
    "\n",
    "l=[]\n",
    "l1=[10,20,30]\n",
    "if(len(l1)==0):\n",
    "    print(\"List is empty\")\n",
    "else:\n",
    "    print(\"List is not empty\")\n"
   ]
  },
  {
   "cell_type": "code",
   "execution_count": 40,
   "metadata": {
    "id": "mES1WANa94u5"
   },
   "outputs": [
    {
     "name": "stdout",
     "output_type": "stream",
     "text": [
      "[10, 10.2, (10+20j), 'Python', [10, 20], (10, 20)]\n"
     ]
    }
   ],
   "source": [
    "#Write a Python program to copy a list using loop.\n",
    "#inp_lst = [10,10.20,10+20j, 'Python', [10,20], (10,20)]\n",
    "#out_lst = [10,10.20,10+20j, 'Python', [10,20], (10,20)]\n",
    "inp_lst = [10,10.20,10+20j, 'Python', [10,20], (10,20)]\n",
    "out_lst=[]\n",
    "for i in inp_lst:\n",
    "    out_lst.append(i)\n",
    "print(out_lst)\n"
   ]
  },
  {
   "cell_type": "code",
   "execution_count": 24,
   "metadata": {
    "id": "CpBh31WO94yi"
   },
   "outputs": [],
   "source": [
    "#Write a Python program to find the list of words that are longer than or equal to 4 from a given string.\n",
    "#Input:- 'How much wood would a woodchuck chuck if a woodchuck could chuck wood'\n",
    "#Output:- ['much', 'wood', 'would', 'woodchuck', 'chuck', 'could']\n",
    "#Note:- Duplicate should be avoided.\n",
    "string = 'How much wood would a woodchuck chuck if a woodchuck could chuck wood'\n",
    "end=0\n",
    "begin=0\n",
    "l=[]\n",
    "last_ele=string.rfind(' ')\n",
    "last_word=string[last_ele+1:]\n",
    "print(last_ele)\n",
    "while(end!=-1):\n",
    "    end = string.find(' ',begin)\n",
    "    #print(index)\n",
    "    word = string[begin:end]\n",
    "    begin=end+1\n",
    "    #print(begin)\n",
    "    if(len(word)>=4 and word not in l and end!=-1):\n",
    "        l.append(word)\n",
    "    elif(end==-1 and len(last_word)>=4):\n",
    "        l.append(last_word)\n",
    "#l.append()\n",
    "print(l)\n",
    "#print(l)\n"
   ]
  },
  {
   "cell_type": "code",
   "execution_count": 27,
   "metadata": {
    "id": "YVfj0fgZ9416"
   },
   "outputs": [
    {
     "name": "stdout",
     "output_type": "stream",
     "text": [
      "True\n"
     ]
    }
   ],
   "source": [
    "#Write a Python program which takes two list as input and returns True if they have at least 3 common elements.\n",
    "#inp_lst1 = [10,20,'Python', 10.20, 10+20j, [10,20,30], (10,20,30)]\n",
    "#inp_lst2 = [(10,20,30),1,20+3j,100.2, 10+20j, [10,20,30],'Python']\n",
    "#Output:- True\n",
    "inp_lst1 = [10,20,'Python', 10.20, 10+20j, [10,20,30], (10,20,30)]\n",
    "inp_lst2 = [(10,20,30),1,20+3j,100.2, 10+20j, [10,20,30],'Python']\n",
    "count=0\n",
    "for i in inp_lst1:\n",
    "    if (count==3):\n",
    "        print(True)\n",
    "        break\n",
    "    if i in inp_lst2:\n",
    "        #print(i)\n",
    "        count+=1\n",
    "if(count<3):\n",
    "    print(False)\n",
    "        \n"
   ]
  },
  {
   "cell_type": "code",
   "execution_count": 45,
   "metadata": {
    "id": "7vwc3pjR945O"
   },
   "outputs": [
    {
     "name": "stdout",
     "output_type": "stream",
     "text": [
      "[[0, 0, 0, 0], [0, 1, 2, 3], [0, 2, 4, 6], [0, 3, 6, 9]]\n"
     ]
    }
   ],
   "source": [
    "#Write a Python program to create a 4X4 2D matrix with below elements using loop and list comprehension both.\n",
    "#Output:- [[0,0,0,0],[0,1,2,3],[0,2,4,6],[0,3,6,9]]\n",
    "\n",
    "l_r=[]\n",
    "for i in range(0,4):\n",
    "    l=[]\n",
    "    for j in range(0,4):\n",
    "        r=i*j\n",
    "        l.append(r)\n",
    "    l_r.append(l)\n",
    "print(l_r)\n",
    "\n"
   ]
  },
  {
   "cell_type": "code",
   "execution_count": 48,
   "metadata": {
    "id": "Pxafor84948b"
   },
   "outputs": [
    {
     "name": "stdout",
     "output_type": "stream",
     "text": [
      "[[[0, 0, 0, 0, 0, 0], [0, 0, 0, 0, 0, 0], [0, 0, 0, 0, 0, 0], [0, 0, 0, 0, 0, 0]], [[0, 0, 0, 0, 0, 0], [1, 1, 1, 1, 1, 1], [2, 2, 2, 2, 2, 2], [3, 3, 3, 3, 3, 3]], [[0, 0, 0, 0, 0, 0], [2, 2, 2, 2, 2, 2], [4, 4, 4, 4, 4, 4], [6, 6, 6, 6, 6, 6]]]\n"
     ]
    }
   ],
   "source": [
    "#Write a Python program to create a 3X4X6 3D matrix wiith below elements using loop\n",
    "#Output:- \n",
    "# [\n",
    "#     [[0,0,0,0,0,0],[0,0,0,0,0,0],[0,0,0,0,0,0],[0,0,0,0,0,0]],\n",
    "#     [[0,0,0,0,0,0],[1,1,1,1,1,1],[2,2,2,2,2,2],[3,3,3,3,3,3]],\n",
    "#     [[0,0,0,0,0,0],[2,2,2,2,2,2],[4,4,4,4,4,4],[6,6,6,6,6,6]]\n",
    "# ]\n",
    "\n",
    "l1=[]\n",
    "for i in range(0,3):\n",
    "    l2=[]\n",
    "    for j in range(0,4):\n",
    "        r=i*j\n",
    "        l3=[]\n",
    "        for k in range(0,6):\n",
    "            l3.append(r)\n",
    "        l2.append(l3)\n",
    "    l1.append(l2)\n",
    "print(l1)"
   ]
  },
  {
   "cell_type": "code",
   "execution_count": 38,
   "metadata": {
    "id": "lYNv8gk794_p"
   },
   "outputs": [
    {
     "name": "stdout",
     "output_type": "stream",
     "text": [
      "[21, 87, 45, 33, 1]\n"
     ]
    }
   ],
   "source": [
    "#Write a Python program which takes a list of numbers as input and prints a new list after removing even numbers from it.\n",
    "#Input:- [10,21,22,98,87,45,33,1,2,100]\n",
    "#Output:- [21,87,45,33,1]\n",
    "\n",
    "l=[10,21,22,98,87,45,33,1,2,100]\n",
    "l_s=[]\n",
    "for i in l:\n",
    "    #print(i)\n",
    "    if i%2!=0:\n",
    "        l_s.append(i)\n",
    "        #print(l_s)\n",
    "print(l_s)\n",
    "\n"
   ]
  },
  {
   "cell_type": "code",
   "execution_count": 49,
   "metadata": {
    "id": "3BaCb-rB95B7"
   },
   "outputs": [
    {
     "name": "stdout",
     "output_type": "stream",
     "text": [
      "[100, 2, 45, 22, 87, 33, 98, 1, 21, 10]\n"
     ]
    }
   ],
   "source": [
    "#Write a Python program which takes a list from the user and prints it after reshuffling the elements of the list.\n",
    "#Input:- [10,21,22,98,87,45,33,1,2,100]\n",
    "#Output:- [1,87,21,10,33,2,100,45,98,22] (It may be any randon list but with same elements)\n",
    "\n",
    "import random\n",
    "lst = [10,21,22,98,87,45,33,1,2,100]\n",
    "random.shuffle(lst)\n",
    "print(lst)\n",
    "\n"
   ]
  },
  {
   "cell_type": "code",
   "execution_count": null,
   "metadata": {},
   "outputs": [],
   "source": []
  }
 ],
 "metadata": {
  "colab": {
   "name": "List_Assignment.ipynb",
   "provenance": []
  },
  "kernelspec": {
   "display_name": "Python 3",
   "language": "python",
   "name": "python3"
  },
  "language_info": {
   "codemirror_mode": {
    "name": "ipython",
    "version": 3
   },
   "file_extension": ".py",
   "mimetype": "text/x-python",
   "name": "python",
   "nbconvert_exporter": "python",
   "pygments_lexer": "ipython3",
   "version": "3.7.6"
  }
 },
 "nbformat": 4,
 "nbformat_minor": 1
}
